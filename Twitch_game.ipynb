{
 "cells": [
  {
   "cell_type": "code",
   "execution_count": 2,
   "metadata": {},
   "outputs": [],
   "source": [
    "import numpy as np\n",
    "import matplotlib.pyplot as plt\n",
    "import pandas as pd"
   ]
  },
  {
   "cell_type": "code",
   "execution_count": 3,
   "metadata": {},
   "outputs": [
    {
     "data": {
      "text/html": [
       "<div>\n",
       "<style scoped>\n",
       "    .dataframe tbody tr th:only-of-type {\n",
       "        vertical-align: middle;\n",
       "    }\n",
       "\n",
       "    .dataframe tbody tr th {\n",
       "        vertical-align: top;\n",
       "    }\n",
       "\n",
       "    .dataframe thead th {\n",
       "        text-align: right;\n",
       "    }\n",
       "</style>\n",
       "<table border=\"1\" class=\"dataframe\">\n",
       "  <thead>\n",
       "    <tr style=\"text-align: right;\">\n",
       "      <th></th>\n",
       "      <th>Rank</th>\n",
       "      <th>Game</th>\n",
       "      <th>Month</th>\n",
       "      <th>Year</th>\n",
       "      <th>Hours_watched</th>\n",
       "      <th>Hours_Streamed</th>\n",
       "      <th>Peak_viewers</th>\n",
       "      <th>Peak_channels</th>\n",
       "      <th>Streamers</th>\n",
       "      <th>Avg_viewers</th>\n",
       "      <th>Avg_channels</th>\n",
       "      <th>Avg_viewer_ratio</th>\n",
       "    </tr>\n",
       "  </thead>\n",
       "  <tbody>\n",
       "    <tr>\n",
       "      <th>0</th>\n",
       "      <td>1</td>\n",
       "      <td>League of Legends</td>\n",
       "      <td>1</td>\n",
       "      <td>2016</td>\n",
       "      <td>94377226</td>\n",
       "      <td>1362044 hours</td>\n",
       "      <td>530270</td>\n",
       "      <td>2903</td>\n",
       "      <td>129172</td>\n",
       "      <td>127021</td>\n",
       "      <td>1833</td>\n",
       "      <td>69.29</td>\n",
       "    </tr>\n",
       "    <tr>\n",
       "      <th>1</th>\n",
       "      <td>2</td>\n",
       "      <td>Counter-Strike: Global Offensive</td>\n",
       "      <td>1</td>\n",
       "      <td>2016</td>\n",
       "      <td>47832863</td>\n",
       "      <td>830105 hours</td>\n",
       "      <td>372654</td>\n",
       "      <td>2197</td>\n",
       "      <td>120849</td>\n",
       "      <td>64378</td>\n",
       "      <td>1117</td>\n",
       "      <td>57.62</td>\n",
       "    </tr>\n",
       "    <tr>\n",
       "      <th>2</th>\n",
       "      <td>3</td>\n",
       "      <td>Dota 2</td>\n",
       "      <td>1</td>\n",
       "      <td>2016</td>\n",
       "      <td>45185893</td>\n",
       "      <td>433397 hours</td>\n",
       "      <td>315083</td>\n",
       "      <td>1100</td>\n",
       "      <td>44074</td>\n",
       "      <td>60815</td>\n",
       "      <td>583</td>\n",
       "      <td>104.26</td>\n",
       "    </tr>\n",
       "    <tr>\n",
       "      <th>3</th>\n",
       "      <td>4</td>\n",
       "      <td>Hearthstone</td>\n",
       "      <td>1</td>\n",
       "      <td>2016</td>\n",
       "      <td>39936159</td>\n",
       "      <td>235903 hours</td>\n",
       "      <td>131357</td>\n",
       "      <td>517</td>\n",
       "      <td>36170</td>\n",
       "      <td>53749</td>\n",
       "      <td>317</td>\n",
       "      <td>169.29</td>\n",
       "    </tr>\n",
       "    <tr>\n",
       "      <th>4</th>\n",
       "      <td>5</td>\n",
       "      <td>Call of Duty: Black Ops III</td>\n",
       "      <td>1</td>\n",
       "      <td>2016</td>\n",
       "      <td>16153057</td>\n",
       "      <td>1151578 hours</td>\n",
       "      <td>71639</td>\n",
       "      <td>3620</td>\n",
       "      <td>214054</td>\n",
       "      <td>21740</td>\n",
       "      <td>1549</td>\n",
       "      <td>14.03</td>\n",
       "    </tr>\n",
       "    <tr>\n",
       "      <th>5</th>\n",
       "      <td>6</td>\n",
       "      <td>Minecraft</td>\n",
       "      <td>1</td>\n",
       "      <td>2016</td>\n",
       "      <td>10231056</td>\n",
       "      <td>490002 hours</td>\n",
       "      <td>64432</td>\n",
       "      <td>1538</td>\n",
       "      <td>88820</td>\n",
       "      <td>13769</td>\n",
       "      <td>659</td>\n",
       "      <td>20.88</td>\n",
       "    </tr>\n",
       "    <tr>\n",
       "      <th>6</th>\n",
       "      <td>7</td>\n",
       "      <td>World of Warcraft</td>\n",
       "      <td>1</td>\n",
       "      <td>2016</td>\n",
       "      <td>8771452</td>\n",
       "      <td>342978 hours</td>\n",
       "      <td>46130</td>\n",
       "      <td>1180</td>\n",
       "      <td>33375</td>\n",
       "      <td>11805</td>\n",
       "      <td>461</td>\n",
       "      <td>25.57</td>\n",
       "    </tr>\n",
       "    <tr>\n",
       "      <th>7</th>\n",
       "      <td>8</td>\n",
       "      <td>Z1: Battle Royale</td>\n",
       "      <td>1</td>\n",
       "      <td>2016</td>\n",
       "      <td>7894571</td>\n",
       "      <td>205569 hours</td>\n",
       "      <td>41588</td>\n",
       "      <td>460</td>\n",
       "      <td>21396</td>\n",
       "      <td>10625</td>\n",
       "      <td>276</td>\n",
       "      <td>38.40</td>\n",
       "    </tr>\n",
       "    <tr>\n",
       "      <th>8</th>\n",
       "      <td>9</td>\n",
       "      <td>Talk Shows &amp; Podcasts</td>\n",
       "      <td>1</td>\n",
       "      <td>2016</td>\n",
       "      <td>7688369</td>\n",
       "      <td>53235 hours</td>\n",
       "      <td>84051</td>\n",
       "      <td>148</td>\n",
       "      <td>10779</td>\n",
       "      <td>10347</td>\n",
       "      <td>71</td>\n",
       "      <td>144.42</td>\n",
       "    </tr>\n",
       "    <tr>\n",
       "      <th>9</th>\n",
       "      <td>10</td>\n",
       "      <td>FIFA 16</td>\n",
       "      <td>1</td>\n",
       "      <td>2016</td>\n",
       "      <td>6988475</td>\n",
       "      <td>203646 hours</td>\n",
       "      <td>145728</td>\n",
       "      <td>756</td>\n",
       "      <td>46462</td>\n",
       "      <td>9405</td>\n",
       "      <td>274</td>\n",
       "      <td>34.32</td>\n",
       "    </tr>\n",
       "    <tr>\n",
       "      <th>10</th>\n",
       "      <td>11</td>\n",
       "      <td>StarCraft II</td>\n",
       "      <td>1</td>\n",
       "      <td>2016</td>\n",
       "      <td>6567126</td>\n",
       "      <td>73753 hours</td>\n",
       "      <td>60355</td>\n",
       "      <td>178</td>\n",
       "      <td>7133</td>\n",
       "      <td>8838</td>\n",
       "      <td>99</td>\n",
       "      <td>89.04</td>\n",
       "    </tr>\n",
       "    <tr>\n",
       "      <th>11</th>\n",
       "      <td>12</td>\n",
       "      <td>Diablo III</td>\n",
       "      <td>1</td>\n",
       "      <td>2016</td>\n",
       "      <td>6235668</td>\n",
       "      <td>218490 hours</td>\n",
       "      <td>57383</td>\n",
       "      <td>2185</td>\n",
       "      <td>25458</td>\n",
       "      <td>8392</td>\n",
       "      <td>294</td>\n",
       "      <td>28.54</td>\n",
       "    </tr>\n",
       "  </tbody>\n",
       "</table>\n",
       "</div>"
      ],
      "text/plain": [
       "    Rank                              Game  Month  Year  Hours_watched  \\\n",
       "0      1                 League of Legends      1  2016       94377226   \n",
       "1      2  Counter-Strike: Global Offensive      1  2016       47832863   \n",
       "2      3                            Dota 2      1  2016       45185893   \n",
       "3      4                       Hearthstone      1  2016       39936159   \n",
       "4      5       Call of Duty: Black Ops III      1  2016       16153057   \n",
       "5      6                         Minecraft      1  2016       10231056   \n",
       "6      7                 World of Warcraft      1  2016        8771452   \n",
       "7      8                 Z1: Battle Royale      1  2016        7894571   \n",
       "8      9             Talk Shows & Podcasts      1  2016        7688369   \n",
       "9     10                           FIFA 16      1  2016        6988475   \n",
       "10    11                      StarCraft II      1  2016        6567126   \n",
       "11    12                        Diablo III      1  2016        6235668   \n",
       "\n",
       "   Hours_Streamed  Peak_viewers  Peak_channels  Streamers  Avg_viewers  \\\n",
       "0   1362044 hours        530270           2903     129172       127021   \n",
       "1    830105 hours        372654           2197     120849        64378   \n",
       "2    433397 hours        315083           1100      44074        60815   \n",
       "3    235903 hours        131357            517      36170        53749   \n",
       "4   1151578 hours         71639           3620     214054        21740   \n",
       "5    490002 hours         64432           1538      88820        13769   \n",
       "6    342978 hours         46130           1180      33375        11805   \n",
       "7    205569 hours         41588            460      21396        10625   \n",
       "8     53235 hours         84051            148      10779        10347   \n",
       "9    203646 hours        145728            756      46462         9405   \n",
       "10    73753 hours         60355            178       7133         8838   \n",
       "11   218490 hours         57383           2185      25458         8392   \n",
       "\n",
       "    Avg_channels  Avg_viewer_ratio  \n",
       "0           1833             69.29  \n",
       "1           1117             57.62  \n",
       "2            583            104.26  \n",
       "3            317            169.29  \n",
       "4           1549             14.03  \n",
       "5            659             20.88  \n",
       "6            461             25.57  \n",
       "7            276             38.40  \n",
       "8             71            144.42  \n",
       "9            274             34.32  \n",
       "10            99             89.04  \n",
       "11           294             28.54  "
      ]
     },
     "execution_count": 3,
     "metadata": {},
     "output_type": "execute_result"
    }
   ],
   "source": [
    "data=pd.read_csv('C:\\\\Users\\\\night\\\\CSCL 250\\\\Fun stuff\\\\Twitch_game_data.csv',encoding='cp1252')\n",
    "data=pd.DataFrame(data)\n",
    "data.head(12)"
   ]
  },
  {
   "cell_type": "code",
   "execution_count": 4,
   "metadata": {},
   "outputs": [
    {
     "data": {
      "text/plain": [
       "(14400, 12)"
      ]
     },
     "execution_count": 4,
     "metadata": {},
     "output_type": "execute_result"
    }
   ],
   "source": [
    "data.shape"
   ]
  },
  {
   "cell_type": "code",
   "execution_count": 5,
   "metadata": {},
   "outputs": [
    {
     "data": {
      "text/plain": [
       "Rank                0\n",
       "Game                1\n",
       "Month               0\n",
       "Year                0\n",
       "Hours_watched       0\n",
       "Hours_Streamed      0\n",
       "Peak_viewers        0\n",
       "Peak_channels       0\n",
       "Streamers           0\n",
       "Avg_viewers         0\n",
       "Avg_channels        0\n",
       "Avg_viewer_ratio    0\n",
       "dtype: int64"
      ]
     },
     "execution_count": 5,
     "metadata": {},
     "output_type": "execute_result"
    }
   ],
   "source": [
    "data.isna().sum()"
   ]
  },
  {
   "cell_type": "code",
   "execution_count": 6,
   "metadata": {},
   "outputs": [],
   "source": [
    "data = data.dropna(subset=['Game'])"
   ]
  },
  {
   "cell_type": "code",
   "execution_count": 7,
   "metadata": {},
   "outputs": [
    {
     "data": {
      "text/plain": [
       "Rank                  int64\n",
       "Game                 object\n",
       "Month                 int64\n",
       "Year                  int64\n",
       "Hours_watched         int64\n",
       "Hours_Streamed       object\n",
       "Peak_viewers          int64\n",
       "Peak_channels         int64\n",
       "Streamers             int64\n",
       "Avg_viewers           int64\n",
       "Avg_channels          int64\n",
       "Avg_viewer_ratio    float64\n",
       "dtype: object"
      ]
     },
     "execution_count": 7,
     "metadata": {},
     "output_type": "execute_result"
    }
   ],
   "source": [
    "data.dtypes"
   ]
  },
  {
   "cell_type": "code",
   "execution_count": 8,
   "metadata": {},
   "outputs": [
    {
     "name": "stdout",
     "output_type": "stream",
     "text": [
      "['League of Legends' 'Counter-Strike: Global Offensive' 'Dota 2' ...\n",
      " 'The Elder Scrolls V: Skyrim Special Edition' 'DNF Duel'\n",
      " 'Pro Soccer Online']\n",
      "1799 Games\n",
      "\n"
     ]
    }
   ],
   "source": [
    "print(data[\"Game\"].unique())\n",
    "print(len(data[\"Game\"].unique()), 'Games')\n",
    "print()\n",
    "game_vc = data['Game'].value_counts()"
   ]
  },
  {
   "cell_type": "code",
   "execution_count": 9,
   "metadata": {},
   "outputs": [
    {
     "data": {
      "text/plain": [
       "<BarContainer object of 1799 artists>"
      ]
     },
     "execution_count": 9,
     "metadata": {},
     "output_type": "execute_result"
    },
    {
     "data": {
      "image/png": "[encoded data removed]",
      "text/plain": [
       "<Figure size 432x288 with 1 Axes>"
      ]
     },
     "metadata": {
      "needs_background": "light"
     },
     "output_type": "display_data"
    }
   ],
   "source": [
    "plt.bar(game_vc.keys(),game_vc)"
   ]
  },
  {
   "cell_type": "code",
   "execution_count": 62,
   "metadata": {},
   "outputs": [
    {
     "data": {
      "text/plain": [
       "2"
      ]
     },
     "execution_count": 62,
     "metadata": {},
     "output_type": "execute_result"
    }
   ],
   "source": [
    "ranking=data[data.Rank==1]\n",
    "ranking.shape\n",
    "ranking.ndim"
   ]
  },
  {
   "cell_type": "code",
   "execution_count": 11,
   "metadata": {},
   "outputs": [
    {
     "data": {
      "text/plain": [
       "['League of Legends',\n",
       " \"PLAYERUNKNOWN'S BATTLEGROUNDS\",\n",
       " 'Fortnite',\n",
       " 'Apex Legends',\n",
       " 'World of Warcraft',\n",
       " 'Just Chatting',\n",
       " 'VALORANT']"
      ]
     },
     "execution_count": 11,
     "metadata": {},
     "output_type": "execute_result"
    }
   ],
   "source": [
    "top_games=list(ranking.Game.unique())\n",
    "top_games"
   ]
  },
  {
   "cell_type": "code",
   "execution_count": 12,
   "metadata": {},
   "outputs": [],
   "source": [
    "labels=ranking.Game"
   ]
  },
  {
   "cell_type": "code",
   "execution_count": 13,
   "metadata": {},
   "outputs": [
    {
     "name": "stdout",
     "output_type": "stream",
     "text": [
      "{'League of Legends': 31, \"PLAYERUNKNOWN'S BATTLEGROUNDS\": 1, 'Fortnite': 16, 'Apex Legends': 1, 'World of Warcraft': 1, 'Just Chatting': 21, 'VALORANT': 1}\n"
     ]
    }
   ],
   "source": [
    "frequency = {}\n",
    "\n",
    "for i in labels:\n",
    "    if (i in frequency) == True:\n",
    "        frequency[i] = frequency[i] + 1\n",
    "    else:\n",
    "        frequency[i] = 1\n",
    "print(frequency)"
   ]
  },
  {
   "cell_type": "code",
   "execution_count": 14,
   "metadata": {},
   "outputs": [
    {
     "data": {
      "image/png": "[encoded data removed]",
      "text/plain": [
       "<Figure size 1440x576 with 1 Axes>"
      ]
     },
     "metadata": {
      "needs_background": "light"
     },
     "output_type": "display_data"
    }
   ],
   "source": [
    "plt.figure(figsize=(20,8))\n",
    "plt.bar(frequency.keys(), frequency.values())\n",
    "\n",
    "plt.title(\"Top games \")\n",
    "\n",
    "plt.xlabel(\"Games\")\n",
    "plt.ylabel(\"Times it was 1st\")\n",
    "\n",
    "list_of_keys = frequency.keys()\n",
    "for value in list_of_keys:\n",
    "    plt.text(value, frequency[value]+0.5, (frequency[value]))"
   ]
  },
  {
   "cell_type": "code",
   "execution_count": 15,
   "metadata": {},
   "outputs": [
    {
     "data": {
      "image/png": "[encoded data removed]",
      "text/plain": [
       "<Figure size 720x720 with 1 Axes>"
      ]
     },
     "metadata": {},
     "output_type": "display_data"
    }
   ],
   "source": [
    "labels = 'League of Legends','Just chatting' , 'Fortnite' , 'Apex Legends Games', 'World of Warcraft','Valorant',\"PLAYERUNKNOWN'S BATTLEGROUNDS\" #We can't include 'Bar' and 'Can' because they only appear once in our data.\n",
    "size = [31,21,16,1,1,1,1]\n",
    "\n",
    "f, ax = plt.subplots(1,1, figsize= (10,10))\n",
    "\n",
    "ax.pie(size, labels = labels, autopct = '%1.2f%%', startangle = 180)\n",
    "ax.axis('equal')\n",
    "ax.set_title(\"Top 1 Viewed 'Games' on Twitch\", size = 20)\n",
    "\n",
    "plt.show()"
   ]
  },
  {
   "cell_type": "code",
   "execution_count": 58,
   "metadata": {},
   "outputs": [
    {
     "data": {
      "text/plain": [
       "<matplotlib.collections.PathCollection at 0x207420a6490>"
      ]
     },
     "execution_count": 58,
     "metadata": {},
     "output_type": "execute_result"
    },
    {
     "data": {
      "image/png": "[encoded data removed]",
      "text/plain": [
       "<Figure size 432x288 with 1 Axes>"
      ]
     },
     "metadata": {
      "needs_background": "light"
     },
     "output_type": "display_data"
    }
   ],
   "source": [
    "plt.scatter(ranking['Hours_Streamed'],ranking['Peak_viewers'])"
   ]
  },
  {
   "cell_type": "code",
   "execution_count": 16,
   "metadata": {},
   "outputs": [
    {
     "data": {
      "text/html": [
       "<div>\n",
       "<style scoped>\n",
       "    .dataframe tbody tr th:only-of-type {\n",
       "        vertical-align: middle;\n",
       "    }\n",
       "\n",
       "    .dataframe tbody tr th {\n",
       "        vertical-align: top;\n",
       "    }\n",
       "\n",
       "    .dataframe thead th {\n",
       "        text-align: right;\n",
       "    }\n",
       "</style>\n",
       "<table border=\"1\" class=\"dataframe\">\n",
       "  <thead>\n",
       "    <tr style=\"text-align: right;\">\n",
       "      <th></th>\n",
       "      <th>Rank</th>\n",
       "      <th>Game</th>\n",
       "      <th>Month</th>\n",
       "      <th>Year</th>\n",
       "      <th>Hours_watched</th>\n",
       "      <th>Hours_Streamed</th>\n",
       "      <th>Peak_viewers</th>\n",
       "      <th>Peak_channels</th>\n",
       "      <th>Streamers</th>\n",
       "      <th>Avg_viewers</th>\n",
       "      <th>Avg_channels</th>\n",
       "      <th>Avg_viewer_ratio</th>\n",
       "    </tr>\n",
       "  </thead>\n",
       "  <tbody>\n",
       "    <tr>\n",
       "      <th>0</th>\n",
       "      <td>1</td>\n",
       "      <td>League of Legends</td>\n",
       "      <td>1</td>\n",
       "      <td>2016</td>\n",
       "      <td>94377226</td>\n",
       "      <td>1362044 hours</td>\n",
       "      <td>530270</td>\n",
       "      <td>2903</td>\n",
       "      <td>129172</td>\n",
       "      <td>127021</td>\n",
       "      <td>1833</td>\n",
       "      <td>69.29</td>\n",
       "    </tr>\n",
       "    <tr>\n",
       "      <th>1</th>\n",
       "      <td>2</td>\n",
       "      <td>Counter-Strike: Global Offensive</td>\n",
       "      <td>1</td>\n",
       "      <td>2016</td>\n",
       "      <td>47832863</td>\n",
       "      <td>830105 hours</td>\n",
       "      <td>372654</td>\n",
       "      <td>2197</td>\n",
       "      <td>120849</td>\n",
       "      <td>64378</td>\n",
       "      <td>1117</td>\n",
       "      <td>57.62</td>\n",
       "    </tr>\n",
       "    <tr>\n",
       "      <th>2</th>\n",
       "      <td>3</td>\n",
       "      <td>Dota 2</td>\n",
       "      <td>1</td>\n",
       "      <td>2016</td>\n",
       "      <td>45185893</td>\n",
       "      <td>433397 hours</td>\n",
       "      <td>315083</td>\n",
       "      <td>1100</td>\n",
       "      <td>44074</td>\n",
       "      <td>60815</td>\n",
       "      <td>583</td>\n",
       "      <td>104.26</td>\n",
       "    </tr>\n",
       "    <tr>\n",
       "      <th>3</th>\n",
       "      <td>4</td>\n",
       "      <td>Hearthstone</td>\n",
       "      <td>1</td>\n",
       "      <td>2016</td>\n",
       "      <td>39936159</td>\n",
       "      <td>235903 hours</td>\n",
       "      <td>131357</td>\n",
       "      <td>517</td>\n",
       "      <td>36170</td>\n",
       "      <td>53749</td>\n",
       "      <td>317</td>\n",
       "      <td>169.29</td>\n",
       "    </tr>\n",
       "    <tr>\n",
       "      <th>4</th>\n",
       "      <td>5</td>\n",
       "      <td>Call of Duty: Black Ops III</td>\n",
       "      <td>1</td>\n",
       "      <td>2016</td>\n",
       "      <td>16153057</td>\n",
       "      <td>1151578 hours</td>\n",
       "      <td>71639</td>\n",
       "      <td>3620</td>\n",
       "      <td>214054</td>\n",
       "      <td>21740</td>\n",
       "      <td>1549</td>\n",
       "      <td>14.03</td>\n",
       "    </tr>\n",
       "    <tr>\n",
       "      <th>...</th>\n",
       "      <td>...</td>\n",
       "      <td>...</td>\n",
       "      <td>...</td>\n",
       "      <td>...</td>\n",
       "      <td>...</td>\n",
       "      <td>...</td>\n",
       "      <td>...</td>\n",
       "      <td>...</td>\n",
       "      <td>...</td>\n",
       "      <td>...</td>\n",
       "      <td>...</td>\n",
       "      <td>...</td>\n",
       "    </tr>\n",
       "    <tr>\n",
       "      <th>14200</th>\n",
       "      <td>1</td>\n",
       "      <td>Just Chatting</td>\n",
       "      <td>12</td>\n",
       "      <td>2021</td>\n",
       "      <td>271538951</td>\n",
       "      <td>3116407 hours</td>\n",
       "      <td>1006556</td>\n",
       "      <td>8092</td>\n",
       "      <td>396024</td>\n",
       "      <td>365462</td>\n",
       "      <td>4194</td>\n",
       "      <td>87.13</td>\n",
       "    </tr>\n",
       "    <tr>\n",
       "      <th>14201</th>\n",
       "      <td>2</td>\n",
       "      <td>Grand Theft Auto V</td>\n",
       "      <td>12</td>\n",
       "      <td>2021</td>\n",
       "      <td>117017755</td>\n",
       "      <td>1944400 hours</td>\n",
       "      <td>415255</td>\n",
       "      <td>5737</td>\n",
       "      <td>148924</td>\n",
       "      <td>157493</td>\n",
       "      <td>2616</td>\n",
       "      <td>60.18</td>\n",
       "    </tr>\n",
       "    <tr>\n",
       "      <th>14202</th>\n",
       "      <td>3</td>\n",
       "      <td>VALORANT</td>\n",
       "      <td>12</td>\n",
       "      <td>2021</td>\n",
       "      <td>98306478</td>\n",
       "      <td>2812461 hours</td>\n",
       "      <td>1047665</td>\n",
       "      <td>6019</td>\n",
       "      <td>249067</td>\n",
       "      <td>132310</td>\n",
       "      <td>3785</td>\n",
       "      <td>34.95</td>\n",
       "    </tr>\n",
       "    <tr>\n",
       "      <th>14203</th>\n",
       "      <td>4</td>\n",
       "      <td>League of Legends</td>\n",
       "      <td>12</td>\n",
       "      <td>2021</td>\n",
       "      <td>95180552</td>\n",
       "      <td>2465988 hours</td>\n",
       "      <td>591381</td>\n",
       "      <td>5291</td>\n",
       "      <td>194521</td>\n",
       "      <td>128103</td>\n",
       "      <td>3318</td>\n",
       "      <td>38.60</td>\n",
       "    </tr>\n",
       "    <tr>\n",
       "      <th>14204</th>\n",
       "      <td>5</td>\n",
       "      <td>Escape from Tarkov</td>\n",
       "      <td>12</td>\n",
       "      <td>2021</td>\n",
       "      <td>77060574</td>\n",
       "      <td>1118138 hours</td>\n",
       "      <td>475913</td>\n",
       "      <td>5568</td>\n",
       "      <td>48796</td>\n",
       "      <td>103715</td>\n",
       "      <td>1504</td>\n",
       "      <td>68.92</td>\n",
       "    </tr>\n",
       "  </tbody>\n",
       "</table>\n",
       "<p>360 rows × 12 columns</p>\n",
       "</div>"
      ],
      "text/plain": [
       "       Rank                              Game  Month  Year  Hours_watched  \\\n",
       "0         1                 League of Legends      1  2016       94377226   \n",
       "1         2  Counter-Strike: Global Offensive      1  2016       47832863   \n",
       "2         3                            Dota 2      1  2016       45185893   \n",
       "3         4                       Hearthstone      1  2016       39936159   \n",
       "4         5       Call of Duty: Black Ops III      1  2016       16153057   \n",
       "...     ...                               ...    ...   ...            ...   \n",
       "14200     1                     Just Chatting     12  2021      271538951   \n",
       "14201     2                Grand Theft Auto V     12  2021      117017755   \n",
       "14202     3                          VALORANT     12  2021       98306478   \n",
       "14203     4                 League of Legends     12  2021       95180552   \n",
       "14204     5                Escape from Tarkov     12  2021       77060574   \n",
       "\n",
       "      Hours_Streamed  Peak_viewers  Peak_channels  Streamers  Avg_viewers  \\\n",
       "0      1362044 hours        530270           2903     129172       127021   \n",
       "1       830105 hours        372654           2197     120849        64378   \n",
       "2       433397 hours        315083           1100      44074        60815   \n",
       "3       235903 hours        131357            517      36170        53749   \n",
       "4      1151578 hours         71639           3620     214054        21740   \n",
       "...              ...           ...            ...        ...          ...   \n",
       "14200  3116407 hours       1006556           8092     396024       365462   \n",
       "14201  1944400 hours        415255           5737     148924       157493   \n",
       "14202  2812461 hours       1047665           6019     249067       132310   \n",
       "14203  2465988 hours        591381           5291     194521       128103   \n",
       "14204  1118138 hours        475913           5568      48796       103715   \n",
       "\n",
       "       Avg_channels  Avg_viewer_ratio  \n",
       "0              1833             69.29  \n",
       "1              1117             57.62  \n",
       "2               583            104.26  \n",
       "3               317            169.29  \n",
       "4              1549             14.03  \n",
       "...             ...               ...  \n",
       "14200          4194             87.13  \n",
       "14201          2616             60.18  \n",
       "14202          3785             34.95  \n",
       "14203          3318             38.60  \n",
       "14204          1504             68.92  \n",
       "\n",
       "[360 rows x 12 columns]"
      ]
     },
     "execution_count": 16,
     "metadata": {},
     "output_type": "execute_result"
    }
   ],
   "source": [
    "top_five=data[data.Rank<=5]\n",
    "top_five"
   ]
  },
  {
   "cell_type": "code",
   "execution_count": 17,
   "metadata": {},
   "outputs": [
    {
     "name": "stdout",
     "output_type": "stream",
     "text": [
      "['League of Legends' 'Counter-Strike: Global Offensive' 'Dota 2'\n",
      " 'Hearthstone' 'Call of Duty: Black Ops III' \"Tom Clancy's The Division\"\n",
      " 'Dark Souls III' 'Overwatch' 'World of Warcraft'\n",
      " \"PLAYERUNKNOWN'S BATTLEGROUNDS\" 'Fortnite' 'IRL'\n",
      " 'Call of Duty: Black Ops 4' 'Just Chatting' 'Apex Legends'\n",
      " 'Grand Theft Auto V' 'Teamfight Tactics' 'Escape From Tarkov'\n",
      " 'Call of Duty: Warzone' 'VALORANT' 'Fall Guys: Ultimate Knockout'\n",
      " 'Among Us' 'Minecraft' 'Rust' 'New World' 'Escape from Tarkov']\n",
      "26 games\n",
      "\n"
     ]
    }
   ],
   "source": [
    "print(top_five[\"Game\"].unique())\n",
    "print(len(top_five[\"Game\"].unique()), 'games')\n",
    "print()\n",
    "top_five_vc = top_five['Game'].value_counts()"
   ]
  },
  {
   "cell_type": "code",
   "execution_count": 18,
   "metadata": {},
   "outputs": [
    {
     "data": {
      "text/plain": [
       "<BarContainer object of 26 artists>"
      ]
     },
     "execution_count": 18,
     "metadata": {},
     "output_type": "execute_result"
    },
    {
     "data": {
      "image/png": "[encoded data removed]",
      "text/plain": [
       "<Figure size 432x288 with 1 Axes>"
      ]
     },
     "metadata": {
      "needs_background": "light"
     },
     "output_type": "display_data"
    }
   ],
   "source": [
    "plt.bar(top_five_vc.keys(),top_five_vc)"
   ]
  },
  {
   "cell_type": "code",
   "execution_count": 19,
   "metadata": {},
   "outputs": [],
   "source": [
    "top_five=pd.DataFrame(top_five_vc)\n",
    "top_five.reset_index(inplace=True)\n",
    "top_five= top_five.rename(columns = {'index':'Games'})\n"
   ]
  },
  {
   "cell_type": "code",
   "execution_count": 20,
   "metadata": {},
   "outputs": [
    {
     "data": {
      "image/png": "[encoded data removed]",
      "text/plain": [
       "<Figure size 720x720 with 1 Axes>"
      ]
     },
     "metadata": {},
     "output_type": "display_data"
    }
   ],
   "source": [
    "f, ax = plt.subplots(1,1, figsize= (5,5))\n",
    "\n",
    "ax.pie(top_five[\"Game\"], labels = top_five[\"Games\"], autopct = '%1.2f%%', startangle = 180)\n",
    "ax.axis('equal')\n",
    "ax.set_title(\"Top 5 Viewed 'Games' on Twitch\", size = 10)\n",
    "\n",
    "plt.show()"
   ]
  },
  {
   "cell_type": "code",
   "execution_count": 55,
   "metadata": {},
   "outputs": [
    {
     "data": {
      "text/html": [
       "<div>\n",
       "<style scoped>\n",
       "    .dataframe tbody tr th:only-of-type {\n",
       "        vertical-align: middle;\n",
       "    }\n",
       "\n",
       "    .dataframe tbody tr th {\n",
       "        vertical-align: top;\n",
       "    }\n",
       "\n",
       "    .dataframe thead th {\n",
       "        text-align: right;\n",
       "    }\n",
       "</style>\n",
       "<table border=\"1\" class=\"dataframe\">\n",
       "  <thead>\n",
       "    <tr style=\"text-align: right;\">\n",
       "      <th></th>\n",
       "      <th>Rank</th>\n",
       "      <th>Game</th>\n",
       "      <th>Month</th>\n",
       "      <th>Year</th>\n",
       "      <th>Hours_watched</th>\n",
       "      <th>Hours_Streamed</th>\n",
       "      <th>Peak_viewers</th>\n",
       "      <th>Peak_channels</th>\n",
       "      <th>Streamers</th>\n",
       "      <th>Avg_viewers</th>\n",
       "      <th>Avg_channels</th>\n",
       "      <th>Avg_viewer_ratio</th>\n",
       "    </tr>\n",
       "  </thead>\n",
       "  <tbody>\n",
       "    <tr>\n",
       "      <th>0</th>\n",
       "      <td>1</td>\n",
       "      <td>League of Legends</td>\n",
       "      <td>1</td>\n",
       "      <td>2016</td>\n",
       "      <td>94377226</td>\n",
       "      <td>1362044 hours</td>\n",
       "      <td>530270</td>\n",
       "      <td>2903</td>\n",
       "      <td>129172</td>\n",
       "      <td>127021</td>\n",
       "      <td>1833</td>\n",
       "      <td>69.29</td>\n",
       "    </tr>\n",
       "    <tr>\n",
       "      <th>1</th>\n",
       "      <td>2</td>\n",
       "      <td>Counter-Strike: Global Offensive</td>\n",
       "      <td>1</td>\n",
       "      <td>2016</td>\n",
       "      <td>47832863</td>\n",
       "      <td>830105 hours</td>\n",
       "      <td>372654</td>\n",
       "      <td>2197</td>\n",
       "      <td>120849</td>\n",
       "      <td>64378</td>\n",
       "      <td>1117</td>\n",
       "      <td>57.62</td>\n",
       "    </tr>\n",
       "    <tr>\n",
       "      <th>2</th>\n",
       "      <td>3</td>\n",
       "      <td>Dota 2</td>\n",
       "      <td>1</td>\n",
       "      <td>2016</td>\n",
       "      <td>45185893</td>\n",
       "      <td>433397 hours</td>\n",
       "      <td>315083</td>\n",
       "      <td>1100</td>\n",
       "      <td>44074</td>\n",
       "      <td>60815</td>\n",
       "      <td>583</td>\n",
       "      <td>104.26</td>\n",
       "    </tr>\n",
       "    <tr>\n",
       "      <th>200</th>\n",
       "      <td>1</td>\n",
       "      <td>League of Legends</td>\n",
       "      <td>2</td>\n",
       "      <td>2016</td>\n",
       "      <td>93154772</td>\n",
       "      <td>1266715 hours</td>\n",
       "      <td>475784</td>\n",
       "      <td>2712</td>\n",
       "      <td>117996</td>\n",
       "      <td>134035</td>\n",
       "      <td>1822</td>\n",
       "      <td>73.54</td>\n",
       "    </tr>\n",
       "    <tr>\n",
       "      <th>201</th>\n",
       "      <td>2</td>\n",
       "      <td>Counter-Strike: Global Offensive</td>\n",
       "      <td>2</td>\n",
       "      <td>2016</td>\n",
       "      <td>44933218</td>\n",
       "      <td>754901 hours</td>\n",
       "      <td>235027</td>\n",
       "      <td>2097</td>\n",
       "      <td>106074</td>\n",
       "      <td>64652</td>\n",
       "      <td>1086</td>\n",
       "      <td>59.52</td>\n",
       "    </tr>\n",
       "    <tr>\n",
       "      <th>...</th>\n",
       "      <td>...</td>\n",
       "      <td>...</td>\n",
       "      <td>...</td>\n",
       "      <td>...</td>\n",
       "      <td>...</td>\n",
       "      <td>...</td>\n",
       "      <td>...</td>\n",
       "      <td>...</td>\n",
       "      <td>...</td>\n",
       "      <td>...</td>\n",
       "      <td>...</td>\n",
       "      <td>...</td>\n",
       "    </tr>\n",
       "    <tr>\n",
       "      <th>14001</th>\n",
       "      <td>2</td>\n",
       "      <td>Grand Theft Auto V</td>\n",
       "      <td>11</td>\n",
       "      <td>2021</td>\n",
       "      <td>129608680</td>\n",
       "      <td>1752977 hours</td>\n",
       "      <td>442304</td>\n",
       "      <td>5022</td>\n",
       "      <td>123262</td>\n",
       "      <td>180262</td>\n",
       "      <td>2438</td>\n",
       "      <td>73.94</td>\n",
       "    </tr>\n",
       "    <tr>\n",
       "      <th>14002</th>\n",
       "      <td>3</td>\n",
       "      <td>League of Legends</td>\n",
       "      <td>11</td>\n",
       "      <td>2021</td>\n",
       "      <td>102612188</td>\n",
       "      <td>2420283 hours</td>\n",
       "      <td>3082772</td>\n",
       "      <td>5280</td>\n",
       "      <td>192692</td>\n",
       "      <td>142715</td>\n",
       "      <td>3366</td>\n",
       "      <td>42.40</td>\n",
       "    </tr>\n",
       "    <tr>\n",
       "      <th>14200</th>\n",
       "      <td>1</td>\n",
       "      <td>Just Chatting</td>\n",
       "      <td>12</td>\n",
       "      <td>2021</td>\n",
       "      <td>271538951</td>\n",
       "      <td>3116407 hours</td>\n",
       "      <td>1006556</td>\n",
       "      <td>8092</td>\n",
       "      <td>396024</td>\n",
       "      <td>365462</td>\n",
       "      <td>4194</td>\n",
       "      <td>87.13</td>\n",
       "    </tr>\n",
       "    <tr>\n",
       "      <th>14201</th>\n",
       "      <td>2</td>\n",
       "      <td>Grand Theft Auto V</td>\n",
       "      <td>12</td>\n",
       "      <td>2021</td>\n",
       "      <td>117017755</td>\n",
       "      <td>1944400 hours</td>\n",
       "      <td>415255</td>\n",
       "      <td>5737</td>\n",
       "      <td>148924</td>\n",
       "      <td>157493</td>\n",
       "      <td>2616</td>\n",
       "      <td>60.18</td>\n",
       "    </tr>\n",
       "    <tr>\n",
       "      <th>14202</th>\n",
       "      <td>3</td>\n",
       "      <td>VALORANT</td>\n",
       "      <td>12</td>\n",
       "      <td>2021</td>\n",
       "      <td>98306478</td>\n",
       "      <td>2812461 hours</td>\n",
       "      <td>1047665</td>\n",
       "      <td>6019</td>\n",
       "      <td>249067</td>\n",
       "      <td>132310</td>\n",
       "      <td>3785</td>\n",
       "      <td>34.95</td>\n",
       "    </tr>\n",
       "  </tbody>\n",
       "</table>\n",
       "<p>216 rows × 12 columns</p>\n",
       "</div>"
      ],
      "text/plain": [
       "       Rank                              Game  Month  Year  Hours_watched  \\\n",
       "0         1                 League of Legends      1  2016       94377226   \n",
       "1         2  Counter-Strike: Global Offensive      1  2016       47832863   \n",
       "2         3                            Dota 2      1  2016       45185893   \n",
       "200       1                 League of Legends      2  2016       93154772   \n",
       "201       2  Counter-Strike: Global Offensive      2  2016       44933218   \n",
       "...     ...                               ...    ...   ...            ...   \n",
       "14001     2                Grand Theft Auto V     11  2021      129608680   \n",
       "14002     3                 League of Legends     11  2021      102612188   \n",
       "14200     1                     Just Chatting     12  2021      271538951   \n",
       "14201     2                Grand Theft Auto V     12  2021      117017755   \n",
       "14202     3                          VALORANT     12  2021       98306478   \n",
       "\n",
       "      Hours_Streamed  Peak_viewers  Peak_channels  Streamers  Avg_viewers  \\\n",
       "0      1362044 hours        530270           2903     129172       127021   \n",
       "1       830105 hours        372654           2197     120849        64378   \n",
       "2       433397 hours        315083           1100      44074        60815   \n",
       "200    1266715 hours        475784           2712     117996       134035   \n",
       "201     754901 hours        235027           2097     106074        64652   \n",
       "...              ...           ...            ...        ...          ...   \n",
       "14001  1752977 hours        442304           5022     123262       180262   \n",
       "14002  2420283 hours       3082772           5280     192692       142715   \n",
       "14200  3116407 hours       1006556           8092     396024       365462   \n",
       "14201  1944400 hours        415255           5737     148924       157493   \n",
       "14202  2812461 hours       1047665           6019     249067       132310   \n",
       "\n",
       "       Avg_channels  Avg_viewer_ratio  \n",
       "0              1833             69.29  \n",
       "1              1117             57.62  \n",
       "2               583            104.26  \n",
       "200            1822             73.54  \n",
       "201            1086             59.52  \n",
       "...             ...               ...  \n",
       "14001          2438             73.94  \n",
       "14002          3366             42.40  \n",
       "14200          4194             87.13  \n",
       "14201          2616             60.18  \n",
       "14202          3785             34.95  \n",
       "\n",
       "[216 rows x 12 columns]"
      ]
     },
     "execution_count": 55,
     "metadata": {},
     "output_type": "execute_result"
    }
   ],
   "source": [
    "top_three=data[data.Rank<=3]\n",
    "top_three"
   ]
  },
  {
   "cell_type": "code",
   "execution_count": 56,
   "metadata": {},
   "outputs": [
    {
     "name": "stdout",
     "output_type": "stream",
     "text": [
      "['League of Legends' 'Counter-Strike: Global Offensive' 'Dota 2'\n",
      " 'Hearthstone' \"PLAYERUNKNOWN'S BATTLEGROUNDS\" 'Fortnite' 'IRL'\n",
      " 'Call of Duty: Black Ops 4' 'Just Chatting' 'Apex Legends'\n",
      " 'Grand Theft Auto V' 'Teamfight Tactics' 'World of Warcraft'\n",
      " 'Escape From Tarkov' 'Call of Duty: Warzone' 'VALORANT'\n",
      " 'Fall Guys: Ultimate Knockout' 'Among Us' 'Rust']\n",
      "19 games\n",
      "\n"
     ]
    }
   ],
   "source": [
    "print(top_three[\"Game\"].unique())\n",
    "print(len(top_three[\"Game\"].unique()), 'games')\n",
    "print()\n",
    "top_three_vc = top_three['Game'].value_counts()"
   ]
  },
  {
   "cell_type": "code",
   "execution_count": 28,
   "metadata": {},
   "outputs": [
    {
     "data": {
      "text/html": [
       "<div>\n",
       "<style scoped>\n",
       "    .dataframe tbody tr th:only-of-type {\n",
       "        vertical-align: middle;\n",
       "    }\n",
       "\n",
       "    .dataframe tbody tr th {\n",
       "        vertical-align: top;\n",
       "    }\n",
       "\n",
       "    .dataframe thead th {\n",
       "        text-align: right;\n",
       "    }\n",
       "</style>\n",
       "<table border=\"1\" class=\"dataframe\">\n",
       "  <thead>\n",
       "    <tr style=\"text-align: right;\">\n",
       "      <th></th>\n",
       "      <th>Rank</th>\n",
       "      <th>Game</th>\n",
       "      <th>Month</th>\n",
       "      <th>Year</th>\n",
       "      <th>Hours_watched</th>\n",
       "      <th>Hours_Streamed</th>\n",
       "      <th>Peak_viewers</th>\n",
       "      <th>Peak_channels</th>\n",
       "      <th>Streamers</th>\n",
       "      <th>Avg_viewers</th>\n",
       "      <th>Avg_channels</th>\n",
       "      <th>Avg_viewer_ratio</th>\n",
       "    </tr>\n",
       "  </thead>\n",
       "  <tbody>\n",
       "    <tr>\n",
       "      <th>0</th>\n",
       "      <td>1</td>\n",
       "      <td>League of Legends</td>\n",
       "      <td>1</td>\n",
       "      <td>2016</td>\n",
       "      <td>94377226</td>\n",
       "      <td>1362044 hours</td>\n",
       "      <td>530270</td>\n",
       "      <td>2903</td>\n",
       "      <td>129172</td>\n",
       "      <td>127021</td>\n",
       "      <td>1833</td>\n",
       "      <td>69.29</td>\n",
       "    </tr>\n",
       "    <tr>\n",
       "      <th>200</th>\n",
       "      <td>1</td>\n",
       "      <td>League of Legends</td>\n",
       "      <td>2</td>\n",
       "      <td>2016</td>\n",
       "      <td>93154772</td>\n",
       "      <td>1266715 hours</td>\n",
       "      <td>475784</td>\n",
       "      <td>2712</td>\n",
       "      <td>117996</td>\n",
       "      <td>134035</td>\n",
       "      <td>1822</td>\n",
       "      <td>73.54</td>\n",
       "    </tr>\n",
       "    <tr>\n",
       "      <th>400</th>\n",
       "      <td>1</td>\n",
       "      <td>League of Legends</td>\n",
       "      <td>3</td>\n",
       "      <td>2016</td>\n",
       "      <td>94514511</td>\n",
       "      <td>1264029 hours</td>\n",
       "      <td>599114</td>\n",
       "      <td>2585</td>\n",
       "      <td>117734</td>\n",
       "      <td>127206</td>\n",
       "      <td>1701</td>\n",
       "      <td>74.77</td>\n",
       "    </tr>\n",
       "    <tr>\n",
       "      <th>600</th>\n",
       "      <td>1</td>\n",
       "      <td>League of Legends</td>\n",
       "      <td>4</td>\n",
       "      <td>2016</td>\n",
       "      <td>88389049</td>\n",
       "      <td>1217250 hours</td>\n",
       "      <td>553165</td>\n",
       "      <td>2945</td>\n",
       "      <td>113251</td>\n",
       "      <td>122933</td>\n",
       "      <td>1692</td>\n",
       "      <td>72.61</td>\n",
       "    </tr>\n",
       "    <tr>\n",
       "      <th>800</th>\n",
       "      <td>1</td>\n",
       "      <td>League of Legends</td>\n",
       "      <td>5</td>\n",
       "      <td>2016</td>\n",
       "      <td>80679320</td>\n",
       "      <td>1196096 hours</td>\n",
       "      <td>433005</td>\n",
       "      <td>2635</td>\n",
       "      <td>118593</td>\n",
       "      <td>108585</td>\n",
       "      <td>1609</td>\n",
       "      <td>67.45</td>\n",
       "    </tr>\n",
       "    <tr>\n",
       "      <th>...</th>\n",
       "      <td>...</td>\n",
       "      <td>...</td>\n",
       "      <td>...</td>\n",
       "      <td>...</td>\n",
       "      <td>...</td>\n",
       "      <td>...</td>\n",
       "      <td>...</td>\n",
       "      <td>...</td>\n",
       "      <td>...</td>\n",
       "      <td>...</td>\n",
       "      <td>...</td>\n",
       "      <td>...</td>\n",
       "    </tr>\n",
       "    <tr>\n",
       "      <th>13402</th>\n",
       "      <td>3</td>\n",
       "      <td>League of Legends</td>\n",
       "      <td>8</td>\n",
       "      <td>2021</td>\n",
       "      <td>138132735</td>\n",
       "      <td>2964379 hours</td>\n",
       "      <td>931796</td>\n",
       "      <td>5614</td>\n",
       "      <td>215239</td>\n",
       "      <td>185912</td>\n",
       "      <td>3989</td>\n",
       "      <td>46.60</td>\n",
       "    </tr>\n",
       "    <tr>\n",
       "      <th>13602</th>\n",
       "      <td>3</td>\n",
       "      <td>League of Legends</td>\n",
       "      <td>9</td>\n",
       "      <td>2021</td>\n",
       "      <td>107406590</td>\n",
       "      <td>2723708 hours</td>\n",
       "      <td>618086</td>\n",
       "      <td>5548</td>\n",
       "      <td>201351</td>\n",
       "      <td>149383</td>\n",
       "      <td>3788</td>\n",
       "      <td>39.43</td>\n",
       "    </tr>\n",
       "    <tr>\n",
       "      <th>13801</th>\n",
       "      <td>2</td>\n",
       "      <td>League of Legends</td>\n",
       "      <td>10</td>\n",
       "      <td>2021</td>\n",
       "      <td>208574800</td>\n",
       "      <td>2489811 hours</td>\n",
       "      <td>2364918</td>\n",
       "      <td>5375</td>\n",
       "      <td>185819</td>\n",
       "      <td>280719</td>\n",
       "      <td>3351</td>\n",
       "      <td>83.77</td>\n",
       "    </tr>\n",
       "    <tr>\n",
       "      <th>14002</th>\n",
       "      <td>3</td>\n",
       "      <td>League of Legends</td>\n",
       "      <td>11</td>\n",
       "      <td>2021</td>\n",
       "      <td>102612188</td>\n",
       "      <td>2420283 hours</td>\n",
       "      <td>3082772</td>\n",
       "      <td>5280</td>\n",
       "      <td>192692</td>\n",
       "      <td>142715</td>\n",
       "      <td>3366</td>\n",
       "      <td>42.40</td>\n",
       "    </tr>\n",
       "    <tr>\n",
       "      <th>14203</th>\n",
       "      <td>4</td>\n",
       "      <td>League of Legends</td>\n",
       "      <td>12</td>\n",
       "      <td>2021</td>\n",
       "      <td>95180552</td>\n",
       "      <td>2465988 hours</td>\n",
       "      <td>591381</td>\n",
       "      <td>5291</td>\n",
       "      <td>194521</td>\n",
       "      <td>128103</td>\n",
       "      <td>3318</td>\n",
       "      <td>38.60</td>\n",
       "    </tr>\n",
       "  </tbody>\n",
       "</table>\n",
       "<p>72 rows × 12 columns</p>\n",
       "</div>"
      ],
      "text/plain": [
       "       Rank               Game  Month  Year  Hours_watched Hours_Streamed  \\\n",
       "0         1  League of Legends      1  2016       94377226  1362044 hours   \n",
       "200       1  League of Legends      2  2016       93154772  1266715 hours   \n",
       "400       1  League of Legends      3  2016       94514511  1264029 hours   \n",
       "600       1  League of Legends      4  2016       88389049  1217250 hours   \n",
       "800       1  League of Legends      5  2016       80679320  1196096 hours   \n",
       "...     ...                ...    ...   ...            ...            ...   \n",
       "13402     3  League of Legends      8  2021      138132735  2964379 hours   \n",
       "13602     3  League of Legends      9  2021      107406590  2723708 hours   \n",
       "13801     2  League of Legends     10  2021      208574800  2489811 hours   \n",
       "14002     3  League of Legends     11  2021      102612188  2420283 hours   \n",
       "14203     4  League of Legends     12  2021       95180552  2465988 hours   \n",
       "\n",
       "       Peak_viewers  Peak_channels  Streamers  Avg_viewers  Avg_channels  \\\n",
       "0            530270           2903     129172       127021          1833   \n",
       "200          475784           2712     117996       134035          1822   \n",
       "400          599114           2585     117734       127206          1701   \n",
       "600          553165           2945     113251       122933          1692   \n",
       "800          433005           2635     118593       108585          1609   \n",
       "...             ...            ...        ...          ...           ...   \n",
       "13402        931796           5614     215239       185912          3989   \n",
       "13602        618086           5548     201351       149383          3788   \n",
       "13801       2364918           5375     185819       280719          3351   \n",
       "14002       3082772           5280     192692       142715          3366   \n",
       "14203        591381           5291     194521       128103          3318   \n",
       "\n",
       "       Avg_viewer_ratio  \n",
       "0                 69.29  \n",
       "200               73.54  \n",
       "400               74.77  \n",
       "600               72.61  \n",
       "800               67.45  \n",
       "...                 ...  \n",
       "13402             46.60  \n",
       "13602             39.43  \n",
       "13801             83.77  \n",
       "14002             42.40  \n",
       "14203             38.60  \n",
       "\n",
       "[72 rows x 12 columns]"
      ]
     },
     "execution_count": 28,
     "metadata": {},
     "output_type": "execute_result"
    }
   ],
   "source": [
    "lol=data[data.Game==\"League of Legends\"]\n",
    "lol"
   ]
  },
  {
   "cell_type": "code",
   "execution_count": 1,
   "metadata": {},
   "outputs": [
    {
     "ename": "NameError",
     "evalue": "name 'lol' is not defined",
     "output_type": "error",
     "traceback": [
      "\u001b[1;31m---------------------------------------------------------------------------\u001b[0m",
      "\u001b[1;31mNameError\u001b[0m                                 Traceback (most recent call last)",
      "\u001b[1;32m<ipython-input-1-0be7104a5e6d>\u001b[0m in \u001b[0;36m<module>\u001b[1;34m\u001b[0m\n\u001b[1;32m----> 1\u001b[1;33m \u001b[0mlen\u001b[0m\u001b[1;33m(\u001b[0m\u001b[0mlol\u001b[0m\u001b[1;33m[\u001b[0m\u001b[1;34m'month'\u001b[0m\u001b[1;33m]\u001b[0m\u001b[1;33m)\u001b[0m\u001b[1;33m\u001b[0m\u001b[1;33m\u001b[0m\u001b[0m\n\u001b[0m",
      "\u001b[1;31mNameError\u001b[0m: name 'lol' is not defined"
     ]
    }
   ],
   "source": [
    "len(lol['month'])"
   ]
  },
  {
   "cell_type": "code",
   "execution_count": 54,
   "metadata": {},
   "outputs": [
    {
     "data": {
      "text/plain": [
       "<matplotlib.collections.PathCollection at 0x20741f8b940>"
      ]
     },
     "execution_count": 54,
     "metadata": {},
     "output_type": "execute_result"
    },
    {
     "data": {
      "image/png": "[encoded data removed]",
      "text/plain": [
       "<Figure size 432x288 with 1 Axes>"
      ]
     },
     "metadata": {
      "needs_background": "light"
     },
     "output_type": "display_data"
    }
   ],
   "source": [
    "plt.scatter(lol['Streamers'],lol['Hours_Streamed'])"
   ]
  },
  {
   "cell_type": "code",
   "execution_count": 47,
   "metadata": {},
   "outputs": [
    {
     "data": {
      "text/plain": [
       "<BarContainer object of 72 artists>"
      ]
     },
     "execution_count": 47,
     "metadata": {},
     "output_type": "execute_result"
    },
    {
     "data": {
      "image/png": "[encoded data removed]",
      "text/plain": [
       "<Figure size 432x288 with 1 Axes>"
      ]
     },
     "metadata": {
      "needs_background": "light"
     },
     "output_type": "display_data"
    }
   ],
   "source": [
    "plt.bar(lol['Month'],lol['Peak_channels'])"
   ]
  },
  {
   "cell_type": "code",
   "execution_count": 33,
   "metadata": {},
   "outputs": [
    {
     "data": {
      "text/plain": [
       "<BarContainer object of 72 artists>"
      ]
     },
     "execution_count": 33,
     "metadata": {},
     "output_type": "execute_result"
    },
    {
     "data": {
      "image/png": "[encoded data removed]",
      "text/plain": [
       "<Figure size 432x288 with 1 Axes>"
      ]
     },
     "metadata": {
      "needs_background": "light"
     },
     "output_type": "display_data"
    }
   ],
   "source": [
    "plt.bar(lol['Month'],lol['Avg_viewers'])"
   ]
  },
  {
   "cell_type": "code",
   "execution_count": null,
   "metadata": {},
   "outputs": [],
   "source": []
  },
  {
   "cell_type": "code",
   "execution_count": 34,
   "metadata": {},
   "outputs": [
    {
     "data": {
      "text/plain": [
       "<pandas.core.groupby.generic.DataFrameGroupBy object at 0x000002073F781C40>"
      ]
     },
     "execution_count": 34,
     "metadata": {},
     "output_type": "execute_result"
    }
   ],
   "source": [
    "year_lol=lol.groupby([\"Year\"])\n",
    "year_lol"
   ]
  },
  {
   "cell_type": "code",
   "execution_count": 36,
   "metadata": {},
   "outputs": [],
   "source": [
    "year_list=list(lol.Year.unique())"
   ]
  },
  {
   "cell_type": "code",
   "execution_count": 39,
   "metadata": {},
   "outputs": [
    {
     "data": {
      "text/plain": [
       "[118083.41666666667,\n",
       " 117081.5,\n",
       " 112639.33333333333,\n",
       " 127911.66666666667,\n",
       " 177187.0,\n",
       " 198402.16666666666]"
      ]
     },
     "execution_count": 39,
     "metadata": {},
     "output_type": "execute_result"
    }
   ],
   "source": [
    "average_viewers=[]\n",
    "\n",
    "for i in year_list:\n",
    "    x=lol[lol.Year==i]\n",
    "    year_average=sum(x.Avg_viewers)/len(x)\n",
    "    average_viewers.append(year_average)\n",
    "\n",
    "average_viewers"
   ]
  },
  {
   "cell_type": "code",
   "execution_count": 40,
   "metadata": {},
   "outputs": [],
   "source": [
    "avg_lol=pd.DataFrame({'year_list':year_list,'average_viewers':average_viewers})"
   ]
  },
  {
   "cell_type": "code",
   "execution_count": 41,
   "metadata": {},
   "outputs": [
    {
     "data": {
      "text/plain": [
       "<BarContainer object of 6 artists>"
      ]
     },
     "execution_count": 41,
     "metadata": {},
     "output_type": "execute_result"
    },
    {
     "data": {
      "image/png": "[encoded data removed]",
      "text/plain": [
       "<Figure size 432x288 with 1 Axes>"
      ]
     },
     "metadata": {
      "needs_background": "light"
     },
     "output_type": "display_data"
    }
   ],
   "source": [
    "plt.bar(year_list,average_viewers)"
   ]
  },
  {
   "cell_type": "code",
   "execution_count": 24,
   "metadata": {},
   "outputs": [
    {
     "data": {
      "text/html": [
       "<div>\n",
       "<style scoped>\n",
       "    .dataframe tbody tr th:only-of-type {\n",
       "        vertical-align: middle;\n",
       "    }\n",
       "\n",
       "    .dataframe tbody tr th {\n",
       "        vertical-align: top;\n",
       "    }\n",
       "\n",
       "    .dataframe thead tr th {\n",
       "        text-align: left;\n",
       "    }\n",
       "\n",
       "    .dataframe thead tr:last-of-type th {\n",
       "        text-align: right;\n",
       "    }\n",
       "</style>\n",
       "<table border=\"1\" class=\"dataframe\">\n",
       "  <thead>\n",
       "    <tr>\n",
       "      <th></th>\n",
       "      <th colspan=\"2\" halign=\"left\">Avg_viewers</th>\n",
       "    </tr>\n",
       "    <tr>\n",
       "      <th></th>\n",
       "      <th>mean</th>\n",
       "      <th>std</th>\n",
       "    </tr>\n",
       "    <tr>\n",
       "      <th>Year</th>\n",
       "      <th></th>\n",
       "      <th></th>\n",
       "    </tr>\n",
       "  </thead>\n",
       "  <tbody>\n",
       "    <tr>\n",
       "      <th>2016</th>\n",
       "      <td>118083.416667</td>\n",
       "      <td>11782.676285</td>\n",
       "    </tr>\n",
       "    <tr>\n",
       "      <th>2017</th>\n",
       "      <td>117081.500000</td>\n",
       "      <td>15326.083800</td>\n",
       "    </tr>\n",
       "    <tr>\n",
       "      <th>2018</th>\n",
       "      <td>112639.333333</td>\n",
       "      <td>13442.694564</td>\n",
       "    </tr>\n",
       "    <tr>\n",
       "      <th>2019</th>\n",
       "      <td>127911.666667</td>\n",
       "      <td>20735.347393</td>\n",
       "    </tr>\n",
       "    <tr>\n",
       "      <th>2020</th>\n",
       "      <td>177187.000000</td>\n",
       "      <td>27302.843455</td>\n",
       "    </tr>\n",
       "    <tr>\n",
       "      <th>2021</th>\n",
       "      <td>198402.166667</td>\n",
       "      <td>43757.164851</td>\n",
       "    </tr>\n",
       "  </tbody>\n",
       "</table>\n",
       "</div>"
      ],
      "text/plain": [
       "        Avg_viewers              \n",
       "               mean           std\n",
       "Year                             \n",
       "2016  118083.416667  11782.676285\n",
       "2017  117081.500000  15326.083800\n",
       "2018  112639.333333  13442.694564\n",
       "2019  127911.666667  20735.347393\n",
       "2020  177187.000000  27302.843455\n",
       "2021  198402.166667  43757.164851"
      ]
     },
     "execution_count": 24,
     "metadata": {},
     "output_type": "execute_result"
    }
   ],
   "source": [
    "#year_lol=year_lol[[\"Avg_viewers\"]].agg([np.mean,np.std])\n",
    "#"
   ]
  }
 ],
 "metadata": {
  "kernelspec": {
   "display_name": "Python 3",
   "language": "python",
   "name": "python3"
  },
  "language_info": {
   "codemirror_mode": {
    "name": "ipython",
    "version": 3
   },
   "file_extension": ".py",
   "mimetype": "text/x-python",
   "name": "python",
   "nbconvert_exporter": "python",
   "pygments_lexer": "ipython3",
   "version": "3.8.5"
  }
 },
 "nbformat": 4,
 "nbformat_minor": 4
}
