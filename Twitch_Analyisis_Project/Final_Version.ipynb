{
 "cells": [
  {
   "cell_type": "code",
   "execution_count": 2,
   "metadata": {},
   "outputs": [],
   "source": [
    "import numpy as np\n",
    "import matplotlib.pyplot as plt\n",
    "import pandas as pd\n",
    "import seaborn as sns "
   ]
  },
  {
   "cell_type": "markdown",
   "metadata": {},
   "source": [
    "# SEE"
   ]
  },
  {
   "cell_type": "code",
   "execution_count": 3,
   "metadata": {},
   "outputs": [],
   "source": [
    "globe=pd.read_csv('C:\\\\Users\\\\night\\\\CSCL 250\\\\Fun stuff\\\\Twitch_global_data.csv')\n",
    "game=pd.read_csv('C:\\\\Users\\\\night\\\\CSCL 250\\\\Fun stuff\\\\Twitch_game_data.csv',encoding='cp1252')\n",
    "globe=pd.DataFrame(globe)\n",
    "game=pd.DataFrame(game)"
   ]
  },
  {
   "cell_type": "code",
   "execution_count": 4,
   "metadata": {},
   "outputs": [
    {
     "data": {
      "text/html": [
       "<div>\n",
       "<style scoped>\n",
       "    .dataframe tbody tr th:only-of-type {\n",
       "        vertical-align: middle;\n",
       "    }\n",
       "\n",
       "    .dataframe tbody tr th {\n",
       "        vertical-align: top;\n",
       "    }\n",
       "\n",
       "    .dataframe thead th {\n",
       "        text-align: right;\n",
       "    }\n",
       "</style>\n",
       "<table border=\"1\" class=\"dataframe\">\n",
       "  <thead>\n",
       "    <tr style=\"text-align: right;\">\n",
       "      <th></th>\n",
       "      <th>year</th>\n",
       "      <th>Month</th>\n",
       "      <th>Hours_watched</th>\n",
       "      <th>Avg_viewers</th>\n",
       "      <th>Peak_viewers</th>\n",
       "      <th>Streams</th>\n",
       "      <th>Avg_channels</th>\n",
       "      <th>Games_streamed</th>\n",
       "    </tr>\n",
       "  </thead>\n",
       "  <tbody>\n",
       "    <tr>\n",
       "      <th>0</th>\n",
       "      <td>2016</td>\n",
       "      <td>1</td>\n",
       "      <td>480241904</td>\n",
       "      <td>646355</td>\n",
       "      <td>1275257</td>\n",
       "      <td>7701675</td>\n",
       "      <td>20076</td>\n",
       "      <td>12,149</td>\n",
       "    </tr>\n",
       "    <tr>\n",
       "      <th>1</th>\n",
       "      <td>2016</td>\n",
       "      <td>2</td>\n",
       "      <td>441859897</td>\n",
       "      <td>635769</td>\n",
       "      <td>1308032</td>\n",
       "      <td>7038520</td>\n",
       "      <td>20427</td>\n",
       "      <td>12,134</td>\n",
       "    </tr>\n",
       "    <tr>\n",
       "      <th>2</th>\n",
       "      <td>2016</td>\n",
       "      <td>3</td>\n",
       "      <td>490669308</td>\n",
       "      <td>660389</td>\n",
       "      <td>1591551</td>\n",
       "      <td>7390957</td>\n",
       "      <td>20271</td>\n",
       "      <td>12,234</td>\n",
       "    </tr>\n",
       "    <tr>\n",
       "      <th>3</th>\n",
       "      <td>2016</td>\n",
       "      <td>4</td>\n",
       "      <td>377975447</td>\n",
       "      <td>525696</td>\n",
       "      <td>1775120</td>\n",
       "      <td>6869719</td>\n",
       "      <td>16791</td>\n",
       "      <td>12,282</td>\n",
       "    </tr>\n",
       "    <tr>\n",
       "      <th>4</th>\n",
       "      <td>2016</td>\n",
       "      <td>5</td>\n",
       "      <td>449836631</td>\n",
       "      <td>605432</td>\n",
       "      <td>1438962</td>\n",
       "      <td>7535519</td>\n",
       "      <td>19394</td>\n",
       "      <td>12,424</td>\n",
       "    </tr>\n",
       "    <tr>\n",
       "      <th>5</th>\n",
       "      <td>2016</td>\n",
       "      <td>6</td>\n",
       "      <td>446429345</td>\n",
       "      <td>620903</td>\n",
       "      <td>1755888</td>\n",
       "      <td>6663363</td>\n",
       "      <td>18818</td>\n",
       "      <td>12,374</td>\n",
       "    </tr>\n",
       "    <tr>\n",
       "      <th>6</th>\n",
       "      <td>2016</td>\n",
       "      <td>7</td>\n",
       "      <td>446331825</td>\n",
       "      <td>600715</td>\n",
       "      <td>1453743</td>\n",
       "      <td>7336215</td>\n",
       "      <td>18030</td>\n",
       "      <td>12,961</td>\n",
       "    </tr>\n",
       "    <tr>\n",
       "      <th>7</th>\n",
       "      <td>2016</td>\n",
       "      <td>8</td>\n",
       "      <td>382117373</td>\n",
       "      <td>514289</td>\n",
       "      <td>1334490</td>\n",
       "      <td>6837386</td>\n",
       "      <td>16592</td>\n",
       "      <td>13,693</td>\n",
       "    </tr>\n",
       "    <tr>\n",
       "      <th>8</th>\n",
       "      <td>2016</td>\n",
       "      <td>9</td>\n",
       "      <td>362833210</td>\n",
       "      <td>504635</td>\n",
       "      <td>1186009</td>\n",
       "      <td>6623528</td>\n",
       "      <td>16880</td>\n",
       "      <td>13,484</td>\n",
       "    </tr>\n",
       "    <tr>\n",
       "      <th>9</th>\n",
       "      <td>2016</td>\n",
       "      <td>10</td>\n",
       "      <td>453035001</td>\n",
       "      <td>609737</td>\n",
       "      <td>1549150</td>\n",
       "      <td>6771852</td>\n",
       "      <td>19250</td>\n",
       "      <td>13,973</td>\n",
       "    </tr>\n",
       "  </tbody>\n",
       "</table>\n",
       "</div>"
      ],
      "text/plain": [
       "   year  Month  Hours_watched  Avg_viewers  Peak_viewers  Streams  \\\n",
       "0  2016      1      480241904       646355       1275257  7701675   \n",
       "1  2016      2      441859897       635769       1308032  7038520   \n",
       "2  2016      3      490669308       660389       1591551  7390957   \n",
       "3  2016      4      377975447       525696       1775120  6869719   \n",
       "4  2016      5      449836631       605432       1438962  7535519   \n",
       "5  2016      6      446429345       620903       1755888  6663363   \n",
       "6  2016      7      446331825       600715       1453743  7336215   \n",
       "7  2016      8      382117373       514289       1334490  6837386   \n",
       "8  2016      9      362833210       504635       1186009  6623528   \n",
       "9  2016     10      453035001       609737       1549150  6771852   \n",
       "\n",
       "   Avg_channels Games_streamed  \n",
       "0         20076         12,149  \n",
       "1         20427         12,134  \n",
       "2         20271         12,234  \n",
       "3         16791         12,282  \n",
       "4         19394         12,424  \n",
       "5         18818         12,374  \n",
       "6         18030         12,961  \n",
       "7         16592         13,693  \n",
       "8         16880         13,484  \n",
       "9         19250         13,973  "
      ]
     },
     "execution_count": 4,
     "metadata": {},
     "output_type": "execute_result"
    }
   ],
   "source": [
    "globe.head(10)"
   ]
  },
  {
   "cell_type": "code",
   "execution_count": 4,
   "metadata": {},
   "outputs": [
    {
     "data": {
      "text/plain": [
       "(72, 8)"
      ]
     },
     "execution_count": 4,
     "metadata": {},
     "output_type": "execute_result"
    }
   ],
   "source": [
    "globe.shape"
   ]
  },
  {
   "cell_type": "code",
   "execution_count": 5,
   "metadata": {},
   "outputs": [
    {
     "data": {
      "text/plain": [
       "year              0\n",
       "Month             0\n",
       "Hours_watched     0\n",
       "Avg_viewers       0\n",
       "Peak_viewers      0\n",
       "Streams           0\n",
       "Avg_channels      0\n",
       "Games_streamed    0\n",
       "dtype: int64"
      ]
     },
     "execution_count": 5,
     "metadata": {},
     "output_type": "execute_result"
    }
   ],
   "source": [
    "globe.isna().sum()"
   ]
  },
  {
   "cell_type": "code",
   "execution_count": 6,
   "metadata": {},
   "outputs": [
    {
     "data": {
      "text/plain": [
       "year               int64\n",
       "Month              int64\n",
       "Hours_watched      int64\n",
       "Avg_viewers        int64\n",
       "Peak_viewers       int64\n",
       "Streams            int64\n",
       "Avg_channels       int64\n",
       "Games_streamed    object\n",
       "dtype: object"
      ]
     },
     "execution_count": 6,
     "metadata": {},
     "output_type": "execute_result"
    }
   ],
   "source": [
    "globe.dtypes"
   ]
  },
  {
   "cell_type": "code",
   "execution_count": 7,
   "metadata": {},
   "outputs": [],
   "source": [
    "year_list=list(globe.year.unique())"
   ]
  },
  {
   "cell_type": "code",
   "execution_count": 8,
   "metadata": {},
   "outputs": [],
   "source": [
    "average_viewers=[]\n",
    "\n",
    "for i in year_list:\n",
    "    x=globe[globe.year==i]\n",
    "    year_average=sum(x.Avg_viewers)/len(x)\n",
    "    average_viewers.append(year_average)"
   ]
  },
  {
   "cell_type": "code",
   "execution_count": 1,
   "metadata": {},
   "outputs": [
    {
     "ename": "NameError",
     "evalue": "name 'pd' is not defined",
     "output_type": "error",
     "traceback": [
      "\u001b[1;31m---------------------------------------------------------------------------\u001b[0m",
      "\u001b[1;31mNameError\u001b[0m                                 Traceback (most recent call last)",
      "\u001b[1;32m<ipython-input-1-3e89746bde38>\u001b[0m in \u001b[0;36m<module>\u001b[1;34m\u001b[0m\n\u001b[1;32m----> 1\u001b[1;33m \u001b[0myear\u001b[0m\u001b[1;33m=\u001b[0m\u001b[0mpd\u001b[0m\u001b[1;33m.\u001b[0m\u001b[0mDataFrame\u001b[0m\u001b[1;33m(\u001b[0m\u001b[1;33m{\u001b[0m\u001b[1;34m'year_list'\u001b[0m\u001b[1;33m:\u001b[0m\u001b[0myear_list\u001b[0m\u001b[1;33m,\u001b[0m\u001b[1;34m'average_viewers'\u001b[0m\u001b[1;33m:\u001b[0m\u001b[0maverage_viewers\u001b[0m\u001b[1;33m}\u001b[0m\u001b[1;33m)\u001b[0m\u001b[1;33m\u001b[0m\u001b[1;33m\u001b[0m\u001b[0m\n\u001b[0m",
      "\u001b[1;31mNameError\u001b[0m: name 'pd' is not defined"
     ]
    }
   ],
   "source": [
    "year=pd.DataFrame({'year_list':year_list,'average_viewers':average_viewers})"
   ]
  },
  {
   "cell_type": "code",
   "execution_count": 10,
   "metadata": {},
   "outputs": [
    {
     "data": {
      "text/plain": [
       "<BarContainer object of 6 artists>"
      ]
     },
     "execution_count": 10,
     "metadata": {},
     "output_type": "execute_result"
    },
    {
     "data": {
      "image/png": "[encoded data removed]",
      "text/plain": [
       "<Figure size 432x288 with 1 Axes>"
      ]
     },
     "metadata": {
      "needs_background": "light"
     },
     "output_type": "display_data"
    }
   ],
   "source": [
    "plt.bar(year_list,average_viewers)"
   ]
  },
  {
   "cell_type": "code",
   "execution_count": 11,
   "metadata": {},
   "outputs": [
    {
     "data": {
      "text/plain": [
       "<matplotlib.collections.PathCollection at 0x1c28000c820>"
      ]
     },
     "execution_count": 11,
     "metadata": {},
     "output_type": "execute_result"
    },
    {
     "data": {
      "image/png": "[encoded data removed]",
      "text/plain": [
       "<Figure size 432x288 with 1 Axes>"
      ]
     },
     "metadata": {
      "needs_background": "light"
     },
     "output_type": "display_data"
    }
   ],
   "source": [
    "plt.scatter(globe['Streams'],globe['Avg_viewers'])"
   ]
  },
  {
   "cell_type": "code",
   "execution_count": 12,
   "metadata": {},
   "outputs": [
    {
     "data": {
      "text/html": [
       "<div>\n",
       "<style scoped>\n",
       "    .dataframe tbody tr th:only-of-type {\n",
       "        vertical-align: middle;\n",
       "    }\n",
       "\n",
       "    .dataframe tbody tr th {\n",
       "        vertical-align: top;\n",
       "    }\n",
       "\n",
       "    .dataframe thead th {\n",
       "        text-align: right;\n",
       "    }\n",
       "</style>\n",
       "<table border=\"1\" class=\"dataframe\">\n",
       "  <thead>\n",
       "    <tr style=\"text-align: right;\">\n",
       "      <th></th>\n",
       "      <th>Rank</th>\n",
       "      <th>Game</th>\n",
       "      <th>Month</th>\n",
       "      <th>Year</th>\n",
       "      <th>Hours_watched</th>\n",
       "      <th>Hours_Streamed</th>\n",
       "      <th>Peak_viewers</th>\n",
       "      <th>Peak_channels</th>\n",
       "      <th>Streamers</th>\n",
       "      <th>Avg_viewers</th>\n",
       "      <th>Avg_channels</th>\n",
       "      <th>Avg_viewer_ratio</th>\n",
       "    </tr>\n",
       "  </thead>\n",
       "  <tbody>\n",
       "    <tr>\n",
       "      <th>0</th>\n",
       "      <td>1</td>\n",
       "      <td>League of Legends</td>\n",
       "      <td>1</td>\n",
       "      <td>2016</td>\n",
       "      <td>94377226</td>\n",
       "      <td>1362044 hours</td>\n",
       "      <td>530270</td>\n",
       "      <td>2903</td>\n",
       "      <td>129172</td>\n",
       "      <td>127021</td>\n",
       "      <td>1833</td>\n",
       "      <td>69.29</td>\n",
       "    </tr>\n",
       "    <tr>\n",
       "      <th>1</th>\n",
       "      <td>2</td>\n",
       "      <td>Counter-Strike: Global Offensive</td>\n",
       "      <td>1</td>\n",
       "      <td>2016</td>\n",
       "      <td>47832863</td>\n",
       "      <td>830105 hours</td>\n",
       "      <td>372654</td>\n",
       "      <td>2197</td>\n",
       "      <td>120849</td>\n",
       "      <td>64378</td>\n",
       "      <td>1117</td>\n",
       "      <td>57.62</td>\n",
       "    </tr>\n",
       "    <tr>\n",
       "      <th>2</th>\n",
       "      <td>3</td>\n",
       "      <td>Dota 2</td>\n",
       "      <td>1</td>\n",
       "      <td>2016</td>\n",
       "      <td>45185893</td>\n",
       "      <td>433397 hours</td>\n",
       "      <td>315083</td>\n",
       "      <td>1100</td>\n",
       "      <td>44074</td>\n",
       "      <td>60815</td>\n",
       "      <td>583</td>\n",
       "      <td>104.26</td>\n",
       "    </tr>\n",
       "    <tr>\n",
       "      <th>3</th>\n",
       "      <td>4</td>\n",
       "      <td>Hearthstone</td>\n",
       "      <td>1</td>\n",
       "      <td>2016</td>\n",
       "      <td>39936159</td>\n",
       "      <td>235903 hours</td>\n",
       "      <td>131357</td>\n",
       "      <td>517</td>\n",
       "      <td>36170</td>\n",
       "      <td>53749</td>\n",
       "      <td>317</td>\n",
       "      <td>169.29</td>\n",
       "    </tr>\n",
       "    <tr>\n",
       "      <th>4</th>\n",
       "      <td>5</td>\n",
       "      <td>Call of Duty: Black Ops III</td>\n",
       "      <td>1</td>\n",
       "      <td>2016</td>\n",
       "      <td>16153057</td>\n",
       "      <td>1151578 hours</td>\n",
       "      <td>71639</td>\n",
       "      <td>3620</td>\n",
       "      <td>214054</td>\n",
       "      <td>21740</td>\n",
       "      <td>1549</td>\n",
       "      <td>14.03</td>\n",
       "    </tr>\n",
       "  </tbody>\n",
       "</table>\n",
       "</div>"
      ],
      "text/plain": [
       "   Rank                              Game  Month  Year  Hours_watched  \\\n",
       "0     1                 League of Legends      1  2016       94377226   \n",
       "1     2  Counter-Strike: Global Offensive      1  2016       47832863   \n",
       "2     3                            Dota 2      1  2016       45185893   \n",
       "3     4                       Hearthstone      1  2016       39936159   \n",
       "4     5       Call of Duty: Black Ops III      1  2016       16153057   \n",
       "\n",
       "  Hours_Streamed  Peak_viewers  Peak_channels  Streamers  Avg_viewers  \\\n",
       "0  1362044 hours        530270           2903     129172       127021   \n",
       "1   830105 hours        372654           2197     120849        64378   \n",
       "2   433397 hours        315083           1100      44074        60815   \n",
       "3   235903 hours        131357            517      36170        53749   \n",
       "4  1151578 hours         71639           3620     214054        21740   \n",
       "\n",
       "   Avg_channels  Avg_viewer_ratio  \n",
       "0          1833             69.29  \n",
       "1          1117             57.62  \n",
       "2           583            104.26  \n",
       "3           317            169.29  \n",
       "4          1549             14.03  "
      ]
     },
     "execution_count": 12,
     "metadata": {},
     "output_type": "execute_result"
    }
   ],
   "source": [
    "game.head()"
   ]
  },
  {
   "cell_type": "code",
   "execution_count": 13,
   "metadata": {},
   "outputs": [
    {
     "data": {
      "text/plain": [
       "(14400, 12)"
      ]
     },
     "execution_count": 13,
     "metadata": {},
     "output_type": "execute_result"
    }
   ],
   "source": [
    "game.shape"
   ]
  },
  {
   "cell_type": "code",
   "execution_count": 14,
   "metadata": {},
   "outputs": [
    {
     "data": {
      "text/plain": [
       "Rank                0\n",
       "Game                1\n",
       "Month               0\n",
       "Year                0\n",
       "Hours_watched       0\n",
       "Hours_Streamed      0\n",
       "Peak_viewers        0\n",
       "Peak_channels       0\n",
       "Streamers           0\n",
       "Avg_viewers         0\n",
       "Avg_channels        0\n",
       "Avg_viewer_ratio    0\n",
       "dtype: int64"
      ]
     },
     "execution_count": 14,
     "metadata": {},
     "output_type": "execute_result"
    }
   ],
   "source": [
    "game.isna().sum()"
   ]
  },
  {
   "cell_type": "code",
   "execution_count": 15,
   "metadata": {},
   "outputs": [],
   "source": [
    "game= game.dropna(subset=['Game'])"
   ]
  },
  {
   "cell_type": "code",
   "execution_count": 7,
   "metadata": {},
   "outputs": [
    {
     "data": {
      "text/plain": [
       "Rank                  int64\n",
       "Game                 object\n",
       "Month                 int64\n",
       "Year                  int64\n",
       "Hours_watched         int64\n",
       "Hours_Streamed       object\n",
       "Peak_viewers          int64\n",
       "Peak_channels         int64\n",
       "Streamers             int64\n",
       "Avg_viewers           int64\n",
       "Avg_channels          int64\n",
       "Avg_viewer_ratio    float64\n",
       "dtype: object"
      ]
     },
     "execution_count": 7,
     "metadata": {},
     "output_type": "execute_result"
    }
   ],
   "source": [
    "game.dtypes"
   ]
  },
  {
   "cell_type": "code",
   "execution_count": 8,
   "metadata": {},
   "outputs": [
    {
     "name": "stdout",
     "output_type": "stream",
     "text": [
      "Rank                  int64\n",
      "Game                 object\n",
      "Month                 int64\n",
      "Year                  int64\n",
      "Hours_watched         int64\n",
      "Hours_Streamed       object\n",
      "Peak_viewers          int64\n",
      "Peak_channels         int64\n",
      "Streamers             int64\n",
      "Avg_viewers           int64\n",
      "Avg_channels          int64\n",
      "Avg_viewer_ratio    float64\n",
      "dtype: object\n"
     ]
    }
   ],
   "source": [
    "types=game.dtypes\n",
    "print(types)"
   ]
  },
  {
   "cell_type": "code",
   "execution_count": 10,
   "metadata": {},
   "outputs": [
    {
     "name": "stdout",
     "output_type": "stream",
     "text": [
      "Game              object\n",
      "Hours_Streamed    object\n",
      "dtype: object\n"
     ]
    }
   ],
   "source": [
    "print(types[types=='object'])"
   ]
  },
  {
   "cell_type": "code",
   "execution_count": 34,
   "metadata": {},
   "outputs": [
    {
     "data": {
      "text/plain": [
       "array([[7.889977  , 7.22026859],\n",
       "       [7.42301984, 7.69967377],\n",
       "       [7.60171194, 7.98060056],\n",
       "       [7.17799132, 7.29163537],\n",
       "       [7.00996669, 7.94051405],\n",
       "       [7.41316615, 7.52462477],\n",
       "       [7.46219225, 7.59183368],\n",
       "       [7.5180964 , 7.79492122],\n",
       "       [7.05413272, 7.85077016],\n",
       "       [7.17482593, 7.30441608],\n",
       "       [7.84279025, 7.45215344],\n",
       "       [7.78233607, 7.7015424 ],\n",
       "       [7.06681805, 7.54181716],\n",
       "       [7.67485469, 7.34345503],\n",
       "       [7.3035026 , 7.17934134],\n",
       "       [7.35072762, 7.84402053],\n",
       "       [7.46501617, 7.7616767 ],\n",
       "       [7.14564688, 7.48807409],\n",
       "       [7.31525705, 7.89334826],\n",
       "       [7.05236195, 7.19129544],\n",
       "       [7.74032933, 7.28463025],\n",
       "       [7.54920728, 7.71810995],\n",
       "       [7.2901535 , 7.33620488],\n",
       "       [7.22098216, 7.35434148],\n",
       "       [7.1506689 , 7.26793949],\n",
       "       [7.74253372, 7.47508924],\n",
       "       [7.23733875, 7.34599152],\n",
       "       [7.58484404, 7.56327039],\n",
       "       [7.70106981, 7.15344061],\n",
       "       [7.42772275, 7.76128575],\n",
       "       [7.26788393, 7.03587882],\n",
       "       [7.98017247, 7.94889076],\n",
       "       [7.77563528, 7.33839025],\n",
       "       [7.41678579, 7.34215862],\n",
       "       [7.69552959, 7.50480825],\n",
       "       [7.12398194, 7.19845204],\n",
       "       [7.32620575, 7.91790195],\n",
       "       [7.78226121, 7.60774667],\n",
       "       [7.0891781 , 7.47710434],\n",
       "       [7.18550984, 7.08067425],\n",
       "       [7.09783666, 7.68294634],\n",
       "       [7.79130485, 7.42203242],\n",
       "       [7.50759298, 7.94479523],\n",
       "       [7.34577953, 7.9428336 ],\n",
       "       [7.09353446, 7.31391531],\n",
       "       [7.03579318, 7.20971709],\n",
       "       [7.35719986, 7.90089575],\n",
       "       [7.45921147, 7.32944664],\n",
       "       [7.29125003, 7.81785746],\n",
       "       [7.85153255, 7.16871963],\n",
       "       [7.37259518, 7.17411739],\n",
       "       [7.70594397, 7.92872542],\n",
       "       [7.12644414, 7.64940915],\n",
       "       [7.09369901, 7.33426679],\n",
       "       [7.03082637, 7.16675858],\n",
       "       [7.3037612 , 7.99019834],\n",
       "       [7.05634002, 7.5658879 ],\n",
       "       [7.35148706, 7.02736502],\n",
       "       [7.61617964, 7.21793576],\n",
       "       [7.75766279, 7.11195527],\n",
       "       [7.56215022, 7.36450243],\n",
       "       [7.58555212, 7.30428666],\n",
       "       [7.50297391, 7.42242002],\n",
       "       [7.49141462, 7.04939702],\n",
       "       [7.16350745, 7.27827405],\n",
       "       [7.87809847, 7.69834359],\n",
       "       [7.9931923 , 7.61175208],\n",
       "       [7.40820602, 7.89301389],\n",
       "       [7.63910095, 7.80744346],\n",
       "       [7.38523332, 7.33736253],\n",
       "       [7.24652295, 7.63085119],\n",
       "       [7.59368179, 7.95372949],\n",
       "       [7.64295767, 7.96562629],\n",
       "       [7.54795383, 7.91429129],\n",
       "       [7.44496839, 7.25222639],\n",
       "       [7.03420198, 7.87797452],\n",
       "       [7.1829814 , 7.24456317],\n",
       "       [7.98569397, 7.69374716],\n",
       "       [7.90622399, 7.28327755],\n",
       "       [7.278339  , 7.79731128],\n",
       "       [7.23992829, 7.24789173],\n",
       "       [7.72518161, 7.5734998 ],\n",
       "       [7.2091249 , 7.66688547],\n",
       "       [7.10795811, 7.52488392],\n",
       "       [7.63827034, 7.7241591 ],\n",
       "       [7.84624392, 7.11917847],\n",
       "       [7.19228499, 7.18773864],\n",
       "       [7.03482565, 7.8430522 ],\n",
       "       [7.21369638, 7.79620254],\n",
       "       [7.64685407, 7.96964678],\n",
       "       [7.7469559 , 7.83803755],\n",
       "       [7.60372917, 7.52044637],\n",
       "       [7.63782385, 7.83530081],\n",
       "       [7.66475177, 7.48306857],\n",
       "       [7.29570056, 7.03083947],\n",
       "       [7.26217421, 7.86836723],\n",
       "       [7.54584932, 7.95884963],\n",
       "       [7.94477584, 7.99145088],\n",
       "       [7.80990186, 7.42159723],\n",
       "       [7.30722486, 7.24018072]])"
      ]
     },
     "execution_count": 34,
     "metadata": {},
     "output_type": "execute_result"
    }
   ],
   "source": [
    "np.random.rand(100,2)+7\n"
   ]
  },
  {
   "cell_type": "code",
   "execution_count": 17,
   "metadata": {},
   "outputs": [
    {
     "name": "stdout",
     "output_type": "stream",
     "text": [
      "['League of Legends' 'Counter-Strike: Global Offensive' 'Dota 2' ...\n",
      " 'The Elder Scrolls V: Skyrim Special Edition' 'DNF Duel'\n",
      " 'Pro Soccer Online']\n",
      "1799 Games\n",
      "\n"
     ]
    }
   ],
   "source": [
    "print(game[\"Game\"].unique())\n",
    "print(len(game[\"Game\"].unique()), 'Games')\n",
    "print()\n",
    "game_vc = game['Game'].value_counts()"
   ]
  },
  {
   "cell_type": "code",
   "execution_count": 18,
   "metadata": {},
   "outputs": [],
   "source": [
    "ranking=game[game.Rank==1]\n",
    "labels=ranking.Game"
   ]
  },
  {
   "cell_type": "code",
   "execution_count": 19,
   "metadata": {},
   "outputs": [],
   "source": [
    "top_games=list(ranking.Game.unique())"
   ]
  },
  {
   "cell_type": "code",
   "execution_count": 20,
   "metadata": {},
   "outputs": [],
   "source": [
    "labels=ranking.Game"
   ]
  },
  {
   "cell_type": "code",
   "execution_count": 21,
   "metadata": {},
   "outputs": [
    {
     "name": "stdout",
     "output_type": "stream",
     "text": [
      "{'League of Legends': 31, \"PLAYERUNKNOWN'S BATTLEGROUNDS\": 1, 'Fortnite': 16, 'Apex Legends': 1, 'World of Warcraft': 1, 'Just Chatting': 21, 'VALORANT': 1}\n"
     ]
    }
   ],
   "source": [
    "frequency = {}\n",
    "\n",
    "for i in labels:\n",
    "    if (i in frequency) == True:\n",
    "        frequency[i] = frequency[i] + 1\n",
    "    else:\n",
    "        frequency[i] = 1\n",
    "print(frequency)"
   ]
  },
  {
   "cell_type": "code",
   "execution_count": 22,
   "metadata": {},
   "outputs": [
    {
     "data": {
      "image/png": "[encoded data removed]",
      "text/plain": [
       "<Figure size 720x720 with 1 Axes>"
      ]
     },
     "metadata": {},
     "output_type": "display_data"
    }
   ],
   "source": [
    "labels = 'League of Legends','Just chatting' , 'Fortnite' , 'Apex Legends Games', 'World of Warcraft','Valorant',\"PLAYERUNKNOWN'S BATTLEGROUNDS\" #We can't include 'Bar' and 'Can' because they only appear once in our data.\n",
    "size = [31,21,16,1,1,1,1]\n",
    "\n",
    "f, ax = plt.subplots(1,1, figsize= (10,10))\n",
    "\n",
    "ax.pie(size, labels = labels, autopct = '%1.2f%%', startangle = 180)\n",
    "ax.axis('equal')\n",
    "ax.set_title(\"Top 1 Viewed 'Games' on Twitch\", size = 20)\n",
    "\n",
    "plt.show()"
   ]
  },
  {
   "cell_type": "code",
   "execution_count": 23,
   "metadata": {},
   "outputs": [
    {
     "data": {
      "text/plain": [
       "(array([0, 1, 2, 3, 4, 5, 6]),\n",
       " [Text(0, 0, 'League of Legends'),\n",
       "  Text(1, 0, \"PLAYERUNKNOWN'S BATTLEGROUNDS\"),\n",
       "  Text(2, 0, 'Fortnite'),\n",
       "  Text(3, 0, 'Apex Legends'),\n",
       "  Text(4, 0, 'World of Warcraft'),\n",
       "  Text(5, 0, 'Just Chatting'),\n",
       "  Text(6, 0, 'VALORANT')])"
      ]
     },
     "execution_count": 23,
     "metadata": {},
     "output_type": "execute_result"
    },
    {
     "data": {
      "image/png": "[encoded data removed]",
      "text/plain": [
       "<Figure size 432x288 with 1 Axes>"
      ]
     },
     "metadata": {
      "needs_background": "light"
     },
     "output_type": "display_data"
    }
   ],
   "source": [
    "sns.boxplot( x=ranking[\"Game\"], y=ranking[\"Hours_watched\"],width=.8)\n",
    "plt.xticks(rotation=80)"
   ]
  },
  {
   "cell_type": "code",
   "execution_count": 24,
   "metadata": {},
   "outputs": [
    {
     "data": {
      "text/html": [
       "<div>\n",
       "<style scoped>\n",
       "    .dataframe tbody tr th:only-of-type {\n",
       "        vertical-align: middle;\n",
       "    }\n",
       "\n",
       "    .dataframe tbody tr th {\n",
       "        vertical-align: top;\n",
       "    }\n",
       "\n",
       "    .dataframe thead th {\n",
       "        text-align: right;\n",
       "    }\n",
       "</style>\n",
       "<table border=\"1\" class=\"dataframe\">\n",
       "  <thead>\n",
       "    <tr style=\"text-align: right;\">\n",
       "      <th></th>\n",
       "      <th>Rank</th>\n",
       "      <th>Game</th>\n",
       "      <th>Month</th>\n",
       "      <th>Year</th>\n",
       "      <th>Hours_watched</th>\n",
       "      <th>Hours_Streamed</th>\n",
       "      <th>Peak_viewers</th>\n",
       "      <th>Peak_channels</th>\n",
       "      <th>Streamers</th>\n",
       "      <th>Avg_viewers</th>\n",
       "      <th>Avg_channels</th>\n",
       "      <th>Avg_viewer_ratio</th>\n",
       "    </tr>\n",
       "  </thead>\n",
       "  <tbody>\n",
       "    <tr>\n",
       "      <th>0</th>\n",
       "      <td>1</td>\n",
       "      <td>League of Legends</td>\n",
       "      <td>1</td>\n",
       "      <td>2016</td>\n",
       "      <td>94377226</td>\n",
       "      <td>1362044 hours</td>\n",
       "      <td>530270</td>\n",
       "      <td>2903</td>\n",
       "      <td>129172</td>\n",
       "      <td>127021</td>\n",
       "      <td>1833</td>\n",
       "      <td>69.29</td>\n",
       "    </tr>\n",
       "    <tr>\n",
       "      <th>200</th>\n",
       "      <td>1</td>\n",
       "      <td>League of Legends</td>\n",
       "      <td>2</td>\n",
       "      <td>2016</td>\n",
       "      <td>93154772</td>\n",
       "      <td>1266715 hours</td>\n",
       "      <td>475784</td>\n",
       "      <td>2712</td>\n",
       "      <td>117996</td>\n",
       "      <td>134035</td>\n",
       "      <td>1822</td>\n",
       "      <td>73.54</td>\n",
       "    </tr>\n",
       "    <tr>\n",
       "      <th>400</th>\n",
       "      <td>1</td>\n",
       "      <td>League of Legends</td>\n",
       "      <td>3</td>\n",
       "      <td>2016</td>\n",
       "      <td>94514511</td>\n",
       "      <td>1264029 hours</td>\n",
       "      <td>599114</td>\n",
       "      <td>2585</td>\n",
       "      <td>117734</td>\n",
       "      <td>127206</td>\n",
       "      <td>1701</td>\n",
       "      <td>74.77</td>\n",
       "    </tr>\n",
       "    <tr>\n",
       "      <th>600</th>\n",
       "      <td>1</td>\n",
       "      <td>League of Legends</td>\n",
       "      <td>4</td>\n",
       "      <td>2016</td>\n",
       "      <td>88389049</td>\n",
       "      <td>1217250 hours</td>\n",
       "      <td>553165</td>\n",
       "      <td>2945</td>\n",
       "      <td>113251</td>\n",
       "      <td>122933</td>\n",
       "      <td>1692</td>\n",
       "      <td>72.61</td>\n",
       "    </tr>\n",
       "    <tr>\n",
       "      <th>800</th>\n",
       "      <td>1</td>\n",
       "      <td>League of Legends</td>\n",
       "      <td>5</td>\n",
       "      <td>2016</td>\n",
       "      <td>80679320</td>\n",
       "      <td>1196096 hours</td>\n",
       "      <td>433005</td>\n",
       "      <td>2635</td>\n",
       "      <td>118593</td>\n",
       "      <td>108585</td>\n",
       "      <td>1609</td>\n",
       "      <td>67.45</td>\n",
       "    </tr>\n",
       "  </tbody>\n",
       "</table>\n",
       "</div>"
      ],
      "text/plain": [
       "     Rank               Game  Month  Year  Hours_watched Hours_Streamed  \\\n",
       "0       1  League of Legends      1  2016       94377226  1362044 hours   \n",
       "200     1  League of Legends      2  2016       93154772  1266715 hours   \n",
       "400     1  League of Legends      3  2016       94514511  1264029 hours   \n",
       "600     1  League of Legends      4  2016       88389049  1217250 hours   \n",
       "800     1  League of Legends      5  2016       80679320  1196096 hours   \n",
       "\n",
       "     Peak_viewers  Peak_channels  Streamers  Avg_viewers  Avg_channels  \\\n",
       "0          530270           2903     129172       127021          1833   \n",
       "200        475784           2712     117996       134035          1822   \n",
       "400        599114           2585     117734       127206          1701   \n",
       "600        553165           2945     113251       122933          1692   \n",
       "800        433005           2635     118593       108585          1609   \n",
       "\n",
       "     Avg_viewer_ratio  \n",
       "0               69.29  \n",
       "200             73.54  \n",
       "400             74.77  \n",
       "600             72.61  \n",
       "800             67.45  "
      ]
     },
     "execution_count": 24,
     "metadata": {},
     "output_type": "execute_result"
    }
   ],
   "source": [
    "lol=game[game.Game==\"League of Legends\"]\n",
    "lol.head()"
   ]
  },
  {
   "cell_type": "code",
   "execution_count": 25,
   "metadata": {},
   "outputs": [
    {
     "data": {
      "text/plain": [
       "[498813.0,\n",
       " 486565.3333333333,\n",
       " 533216.5,\n",
       " 611087.8333333334,\n",
       " 637840.25,\n",
       " 1101674.5833333333]"
      ]
     },
     "execution_count": 25,
     "metadata": {},
     "output_type": "execute_result"
    }
   ],
   "source": [
    "peak_viewers=[]\n",
    "\n",
    "for i in year_list:\n",
    "    x=lol[lol.Year==i]\n",
    "    year_average=sum(x.Peak_viewers)/len(x)\n",
    "    peak_viewers.append(year_average)\n",
    "\n",
    "peak_viewers"
   ]
  },
  {
   "cell_type": "code",
   "execution_count": 26,
   "metadata": {},
   "outputs": [
    {
     "data": {
      "text/html": [
       "<div>\n",
       "<style scoped>\n",
       "    .dataframe tbody tr th:only-of-type {\n",
       "        vertical-align: middle;\n",
       "    }\n",
       "\n",
       "    .dataframe tbody tr th {\n",
       "        vertical-align: top;\n",
       "    }\n",
       "\n",
       "    .dataframe thead th {\n",
       "        text-align: right;\n",
       "    }\n",
       "</style>\n",
       "<table border=\"1\" class=\"dataframe\">\n",
       "  <thead>\n",
       "    <tr style=\"text-align: right;\">\n",
       "      <th></th>\n",
       "      <th>year_list</th>\n",
       "      <th>peak_viewers</th>\n",
       "    </tr>\n",
       "  </thead>\n",
       "  <tbody>\n",
       "    <tr>\n",
       "      <th>0</th>\n",
       "      <td>2016</td>\n",
       "      <td>4.988130e+05</td>\n",
       "    </tr>\n",
       "    <tr>\n",
       "      <th>1</th>\n",
       "      <td>2017</td>\n",
       "      <td>4.865653e+05</td>\n",
       "    </tr>\n",
       "    <tr>\n",
       "      <th>2</th>\n",
       "      <td>2018</td>\n",
       "      <td>5.332165e+05</td>\n",
       "    </tr>\n",
       "    <tr>\n",
       "      <th>3</th>\n",
       "      <td>2019</td>\n",
       "      <td>6.110878e+05</td>\n",
       "    </tr>\n",
       "    <tr>\n",
       "      <th>4</th>\n",
       "      <td>2020</td>\n",
       "      <td>6.378402e+05</td>\n",
       "    </tr>\n",
       "    <tr>\n",
       "      <th>5</th>\n",
       "      <td>2021</td>\n",
       "      <td>1.101675e+06</td>\n",
       "    </tr>\n",
       "  </tbody>\n",
       "</table>\n",
       "</div>"
      ],
      "text/plain": [
       "   year_list  peak_viewers\n",
       "0       2016  4.988130e+05\n",
       "1       2017  4.865653e+05\n",
       "2       2018  5.332165e+05\n",
       "3       2019  6.110878e+05\n",
       "4       2020  6.378402e+05\n",
       "5       2021  1.101675e+06"
      ]
     },
     "execution_count": 26,
     "metadata": {},
     "output_type": "execute_result"
    }
   ],
   "source": [
    "peak=pd.DataFrame({'year_list':year_list,'peak_viewers':peak_viewers})\n",
    "peak"
   ]
  },
  {
   "cell_type": "code",
   "execution_count": 27,
   "metadata": {},
   "outputs": [
    {
     "data": {
      "text/plain": [
       "[<matplotlib.lines.Line2D at 0x1c2801f8250>]"
      ]
     },
     "execution_count": 27,
     "metadata": {},
     "output_type": "execute_result"
    },
    {
     "data": {
      "image/png": "[encoded data removed]",
      "text/plain": [
       "<Figure size 432x288 with 1 Axes>"
      ]
     },
     "metadata": {
      "needs_background": "light"
     },
     "output_type": "display_data"
    }
   ],
   "source": [
    "plt.hlines(y=peak['year_list'],xmin=0,xmax=peak['peak_viewers'])\n",
    "plt.plot(peak['peak_viewers'],peak['year_list'],\"D\")"
   ]
  },
  {
   "cell_type": "code",
   "execution_count": 39,
   "metadata": {},
   "outputs": [
    {
     "data": {
      "text/html": [
       "<div>\n",
       "<style scoped>\n",
       "    .dataframe tbody tr th:only-of-type {\n",
       "        vertical-align: middle;\n",
       "    }\n",
       "\n",
       "    .dataframe tbody tr th {\n",
       "        vertical-align: top;\n",
       "    }\n",
       "\n",
       "    .dataframe thead th {\n",
       "        text-align: right;\n",
       "    }\n",
       "</style>\n",
       "<table border=\"1\" class=\"dataframe\">\n",
       "  <thead>\n",
       "    <tr style=\"text-align: right;\">\n",
       "      <th></th>\n",
       "      <th>Peak_channels</th>\n",
       "    </tr>\n",
       "  </thead>\n",
       "  <tbody>\n",
       "    <tr>\n",
       "      <th>0</th>\n",
       "      <td>2903</td>\n",
       "    </tr>\n",
       "    <tr>\n",
       "      <th>200</th>\n",
       "      <td>2712</td>\n",
       "    </tr>\n",
       "    <tr>\n",
       "      <th>400</th>\n",
       "      <td>2585</td>\n",
       "    </tr>\n",
       "    <tr>\n",
       "      <th>600</th>\n",
       "      <td>2945</td>\n",
       "    </tr>\n",
       "    <tr>\n",
       "      <th>800</th>\n",
       "      <td>2635</td>\n",
       "    </tr>\n",
       "    <tr>\n",
       "      <th>...</th>\n",
       "      <td>...</td>\n",
       "    </tr>\n",
       "    <tr>\n",
       "      <th>13402</th>\n",
       "      <td>5614</td>\n",
       "    </tr>\n",
       "    <tr>\n",
       "      <th>13602</th>\n",
       "      <td>5548</td>\n",
       "    </tr>\n",
       "    <tr>\n",
       "      <th>13801</th>\n",
       "      <td>5375</td>\n",
       "    </tr>\n",
       "    <tr>\n",
       "      <th>14002</th>\n",
       "      <td>5280</td>\n",
       "    </tr>\n",
       "    <tr>\n",
       "      <th>14203</th>\n",
       "      <td>5291</td>\n",
       "    </tr>\n",
       "  </tbody>\n",
       "</table>\n",
       "<p>72 rows × 1 columns</p>\n",
       "</div>"
      ],
      "text/plain": [
       "       Peak_channels\n",
       "0               2903\n",
       "200             2712\n",
       "400             2585\n",
       "600             2945\n",
       "800             2635\n",
       "...              ...\n",
       "13402           5614\n",
       "13602           5548\n",
       "13801           5375\n",
       "14002           5280\n",
       "14203           5291\n",
       "\n",
       "[72 rows x 1 columns]"
      ]
     },
     "execution_count": 39,
     "metadata": {},
     "output_type": "execute_result"
    }
   ],
   "source": [
    "hours =lol.Avg_viewers\n",
    "lol_clean = lol.drop(['Game','Avg_viewers','Hours_Streamed','Rank','Month','Year','Peak_viewers','Avg_channels','Avg_viewer_ratio','Streamers','Hours_watched'],axis=1) #Check something up with the data\n",
    "lol_clean"
   ]
  },
  {
   "cell_type": "code",
   "execution_count": 42,
   "metadata": {},
   "outputs": [
    {
     "data": {
      "text/plain": [
       "0        127021\n",
       "200      134035\n",
       "400      127206\n",
       "600      122933\n",
       "800      108585\n",
       "          ...  \n",
       "13402    185912\n",
       "13602    149383\n",
       "13801    280719\n",
       "14002    142715\n",
       "14203    128103\n",
       "Name: Avg_viewers, Length: 72, dtype: int64"
      ]
     },
     "execution_count": 42,
     "metadata": {},
     "output_type": "execute_result"
    }
   ],
   "source": [
    "hours"
   ]
  },
  {
   "cell_type": "code",
   "execution_count": 43,
   "metadata": {},
   "outputs": [],
   "source": [
    "from sklearn.linear_model import LinearRegression\n",
    "from sklearn.model_selection import train_test_split\n",
    "from sklearn.metrics import mean_squared_error, r2_score"
   ]
  },
  {
   "cell_type": "code",
   "execution_count": 44,
   "metadata": {},
   "outputs": [
    {
     "data": {
      "text/plain": [
       "LinearRegression()"
      ]
     },
     "execution_count": 44,
     "metadata": {},
     "output_type": "execute_result"
    }
   ],
   "source": [
    "X_train, X_test, y_train, y_test = train_test_split(lol_clean, hours, test_size=0.2, random_state=42)\n",
    "model = LinearRegression()\n",
    "model.fit(np.asarray(X_train),np.asarray(y_train))"
   ]
  },
  {
   "cell_type": "code",
   "execution_count": 45,
   "metadata": {},
   "outputs": [
    {
     "name": "stdout",
     "output_type": "stream",
     "text": [
      "Coefficients: \n",
      " [13.99946375]\n",
      "Mean squared error: 456121226.86\n",
      "Variance score: 0.50\n"
     ]
    },
    {
     "data": {
      "image/png": "[encoded data removed]",
      "text/plain": [
       "<Figure size 1152x576 with 1 Axes>"
      ]
     },
     "metadata": {
      "needs_background": "light"
     },
     "output_type": "display_data"
    }
   ],
   "source": [
    "# Make predictions using the testing set\n",
    "y_pred = model.predict(X_test)\n",
    "# The coefficients\n",
    "print('Coefficients: \\n', model.coef_)\n",
    "\n",
    "# The mean squared error\n",
    "print(\"Mean squared error: %.2f\" % mean_squared_error(y_test, y_pred))\n",
    "\n",
    "# Explained variance score: 1 is perfect prediction\n",
    "print('Variance score: %.2f' % r2_score(y_test, y_pred))\n",
    "\n",
    "# Plot outputs\n",
    "fig=plt.figure(figsize=(16, 8))\n",
    "plt.scatter(range(len(y_test)), y_test, color='green')\n",
    "plt.scatter(range(len(y_pred)), y_pred, color='red')\n",
    "plt.show()"
   ]
  },
  {
   "cell_type": "code",
   "execution_count": 46,
   "metadata": {},
   "outputs": [
    {
     "data": {
      "image/png": "[encoded data removed]",
      "text/plain": [
       "<Figure size 1152x576 with 1 Axes>"
      ]
     },
     "metadata": {
      "needs_background": "light"
     },
     "output_type": "display_data"
    }
   ],
   "source": [
    "fig=plt.figure(figsize=(16, 8))\n",
    "plt.scatter(X_test, y_test, color='green')\n",
    "plt.scatter(X_test, y_pred, color='red')\n",
    "plt.show()"
   ]
  },
  {
   "cell_type": "code",
   "execution_count": 47,
   "metadata": {},
   "outputs": [
    {
     "data": {
      "image/png": "[encoded data removed]",
      "text/plain": [
       "<Figure size 432x288 with 1 Axes>"
      ]
     },
     "metadata": {},
     "output_type": "display_data"
    }
   ],
   "source": [
    "plt.scatter(X_test, y_test, color='black')\n",
    "plt.plot(X_test, y_pred, color='blue', linewidth=3)\n",
    "plt.xticks(())\n",
    "plt.yticks(())\n",
    "plt.show()"
   ]
  },
  {
   "cell_type": "markdown",
   "metadata": {},
   "source": []
  },
  {
   "cell_type": "code",
   "execution_count": null,
   "metadata": {},
   "outputs": [],
   "source": []
  }
 ],
 "metadata": {
  "kernelspec": {
   "display_name": "Python 3",
   "language": "python",
   "name": "python3"
  },
  "language_info": {
   "codemirror_mode": {
    "name": "ipython",
    "version": 3
   },
   "file_extension": ".py",
   "mimetype": "text/x-python",
   "name": "python",
   "nbconvert_exporter": "python",
   "pygments_lexer": "ipython3",
   "version": "3.8.5"
  }
 },
 "nbformat": 4,
 "nbformat_minor": 4
}
